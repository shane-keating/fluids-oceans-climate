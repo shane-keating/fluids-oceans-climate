{
 "cells": [
  {
   "cell_type": "markdown",
   "metadata": {},
   "source": [
    "<img src=\"cats-eye.png\" align=\"center\"/>\n",
    "\n",
    "# Lab 2B: Active tracer advection\n",
    "\n",
    "This lab extends some of the ideas we saw in the previous lab to *active tracers*, which are advected by the flow by also modify the flow. Specifically, we will examine the single-layer non-rotating shallow water model, in which the shallow water potential vorticity is an active tracer. \n",
    "\n",
    "To use this notebook, you will need Python 3 and the latest version of [Dedalus](http://dedalus-project.org/) installed on your local machine. "
   ]
  },
  {
   "cell_type": "markdown",
   "metadata": {},
   "source": [
    "# Background\n",
    "\n",
    "## Non-rotating shallow water model\n",
    "\n",
    "The equations of motion for a single-layer shallow water model of depth $h$ \n",
    "\n",
    "$$\n",
    "\\partial_t Q + \\mathbf{u} \\cdot \\nabla Q = K \\, \\nabla^2 \\, Q,\n",
    "$$\n",
    "\n",
    "where $u = - \\partial_y \\psi$, $v = \\partial_x \\psi$ is the velocity field, $\\psi$ is the geostrophic streamfunction, $K$ is the diffusivity and \n",
    "\n",
    "$$\n",
    "Q = \\frac{f + \\zeta}{h}\n",
    "$$\n",
    "\n",
    "is the shallow-water potential vorticity. In this expression, $\\zeta$ is the $z$-component of the relative vorticity\n",
    "\n",
    "$$\n",
    "\\zeta = \\frac{\\partial v}{\\partial x} - \\frac{\\partial u}{\\partial y} = \\nabla^2 \\psi.\n",
    "$$\n",
    "\n",
    "In this experiment, we will neglect the effect of rotation, and so we will set $f = 0$. For simplicity, we will also neglect variations in the depth of the fluid, $h$. For simplicity, we set $h = 1$. Then the shallow water potential vorticity is equivalent to the relative vorticity of the flow: \n",
    "\n",
    "$$\n",
    "Q = \\nabla^2 \\psi\n",
    "$$"
   ]
  },
  {
   "cell_type": "markdown",
   "metadata": {},
   "source": [
    "# Experimental setup\n",
    "\n",
    "## Libraries\n",
    "\n",
    "We will use Dedalus to solve the shallow water equations. \n",
    "\n",
    "First we import the necessary libraries and call some commands so we can suppress some logging messages and plot figures in the Jupyter window. \n",
    "\n",
    "**Don't forget to type SHIFT+ENTER (or click RUN from the menu above) to execute each cell.**"
   ]
  },
  {
   "cell_type": "code",
   "execution_count": 2,
   "metadata": {},
   "outputs": [],
   "source": [
    "# import libraries\n",
    "import numpy as np\n",
    "import matplotlib.pyplot as plt\n",
    "%matplotlib inline\n",
    "\n",
    "from dedalus import public as de\n",
    "from dedalus.extras import flow_tools\n",
    "import time\n",
    "import logging\n",
    "logger = logging.getLogger(__name__)"
   ]
  },
  {
   "cell_type": "markdown",
   "metadata": {},
   "source": [
    "## Basis and domains\n",
    "\n",
    "We will work in a square domain of length `L`. For simplicity, we will use periodic boundary conditions on each side of the domain. We do this by choosing the basis functions in the $x$ and $y$ directions to be Fourier (sines and cosines). "
   ]
  },
  {
   "cell_type": "code",
   "execution_count": 3,
   "metadata": {},
   "outputs": [],
   "source": [
    "# Parameters\n",
    "L = np.pi # 2*L = length of domain\n",
    "nx = 64   # number of gridpoints\n",
    "K = 0.01  # diffusivity\n",
    "\n",
    "# Create bases and domain\n",
    "x_basis = de.Fourier('x', nx, interval=(-L,L))\n",
    "y_basis = de.Fourier('y', nx, interval=(-L,L))\n",
    "domain = de.Domain([x_basis,y_basis], grid_dtype=np.float64)"
   ]
  },
  {
   "cell_type": "markdown",
   "metadata": {},
   "source": [
    "# Experimental setup\n",
    "\n",
    "## Dedalus\n",
    "\n",
    "Import the `dedalus` library, some extra tools (`flow_tools`) for Dedalus, and a library called `time` that will tell us how much time has elapsed since we started the calculation. Finally, suppress some logging messages. "
   ]
  },
  {
   "cell_type": "code",
   "execution_count": null,
   "metadata": {},
   "outputs": [],
   "source": [
    "from dedalus import public as de\n",
    "from dedalus.extras import flow_tools\n",
    "import time\n",
    "\n",
    "import logging\n",
    "logger = logging.getLogger(__name__)"
   ]
  },
  {
   "cell_type": "markdown",
   "metadata": {},
   "source": [
    "## Bases and Domains\n",
    "\n",
    "The domain used in this problem is periodic in $x$ and $y$. Thus, we will choose sines and cosines (Fourier) for both the $x$ and $y$ basis functions. The domain is then constructed by putting these basis functions together. "
   ]
  },
  {
   "cell_type": "code",
   "execution_count": 4,
   "metadata": {},
   "outputs": [],
   "source": [
    "# Parameters\n",
    "L = np.pi # 2*L = length of domain\n",
    "nx = 64   # number of gridpoints\n",
    "K = 0.01    # diffusivity\n",
    "eps = 0.  # controls shape of velocity field \n",
    "\n",
    "# Create bases and domain\n",
    "x_basis = de.Fourier('x', nx, interval=(-L,L))\n",
    "y_basis = de.Fourier('y', nx, interval=(-L,L))\n",
    "domain = de.Domain([x_basis,y_basis], grid_dtype=np.float64)"
   ]
  },
  {
   "cell_type": "markdown",
   "metadata": {},
   "source": [
    "## Initial value problem\n",
    "\n",
    "Again, this is an initial value problem, which we call using the command IVP from the Dedalus library. We also need to tell Dedalus the domain ($x$, $y$), the dynamical variables ($Q$, $Q_x$, $Q_y$), parameters ($K$) and functions ($U(x,y)$, $V(x,y)$) that appear in the problem. "
   ]
  },
  {
   "cell_type": "markdown",
   "metadata": {},
   "source": [
    "## Initial value problem\n",
    "\n",
    "Now we need to tell Dedalus about the domain, variables, parameters, and equations. (We don't need to worry about boundary conditions because they are built into our choice of Fourier basis modes.)\n",
    "\n",
    "We only have one equation to solve, \n",
    "\n",
    "$$\n",
    "\\partial_t q + U \\, \\partial_x q + \\beta \\, \\partial_x \\psi = - \\epsilon J \\left( \\psi, q \\right).  \n",
    "$$\n",
    "\n",
    "However, we need to tell Dedalus what the terms $q$ and $J(\\psi, q)$ mean. We will do this using *substitutions*. These tell Dedalus that whenever it sees $q$ (for example), it should replace it with $\\nabla^2 \\psi$. \n",
    "\n",
    "Each timestep, the code carries out the following tasks:   \n",
    "\n",
    "1. Calculate the potential vorticity $q$ from the streamfunction $\\psi$\n",
    "2. Calculate the nonlinear term $J(\\psi,q)$\n",
    "3. Evolve the potential vorticity forward in time \n",
    "4. Calculate the new streamfunction from the updated potential vorticity. \n",
    "\n",
    "The last step basically involves inverting the equation\n",
    "\n",
    "$$\n",
    "q = \\nabla^2 \\psi,\n",
    "$$\n",
    "\n",
    "This is easy to do using Fourier basis functions. If \n",
    "\n",
    "$$\n",
    "\\psi = \\tilde{\\psi} \\; \\mbox{e}^{i \\left( k x + l y \\right)}, \n",
    "\\qquad \\mbox{and} \\qquad \n",
    "q = \\tilde{q} \\; \\mbox{e}^{i \\left( k x + l y \\right)}, \n",
    "$$\n",
    "\n",
    "then spatial derivatives turn into multiplication by $i k$ and $i l$. In that case, the potential vorticity becomes\n",
    "\n",
    "$$\n",
    "\\tilde{q} = - \\left( k^2 + l^2  \\right) \\tilde{\\psi}\n",
    "$$\n",
    "\n",
    "Inverting this then gives the streamfunction in terms of the potential vorticity\n",
    "\n",
    "$$\n",
    "\\tilde{\\psi} = - \\left( k^2 + l^2 \\right)^{-1} \\tilde{q}\n",
    "$$\n",
    "\n",
    "However, care has to be taken to make sure we don't divide by zero, which could happen if $k = l = 0$. We will avoid this by simply setting $\\psi = 0$ if $k = l = 0$. \n",
    "\n",
    "In Dedalus, wavenumbers $k$ and $l$ are labelled by `nx` and `ny`, respectively. So we will tell Dedalus to use the equation of motion for `q` when `nx` or `ny` are non-zero, and to set `psi = 0` when `nx` and `ny` are both zero. "
   ]
  },
  {
   "cell_type": "code",
   "execution_count": null,
   "metadata": {},
   "outputs": [],
   "source": [
    "# Formulate the initial value problem\n",
    "problem = de.IVP(domain, variables=['C','Cx','Cy'])\n",
    "\n",
    "# Set parameters (diffusivity)\n",
    "problem.parameters['K'] = K\n",
    "problem.parameters['eps'] = eps\n",
    "\n",
    "# Set velocity field\n",
    "problem.substitutions['U'] = '-sin(x)*cos(y) + eps*cos(x)*sin(y)'\n",
    "problem.substitutions['V'] = ' cos(x)*sin(y) - eps*sin(x)*cos(y)'"
   ]
  },
  {
   "cell_type": "markdown",
   "metadata": {},
   "source": [
    "## Formulating the problem\n",
    "\n",
    "Now we add the equations. Notice that there are no explicit boundary conditions, since these are already satisfied by the periodic basis functions chosen for $x$ and $y$. "
   ]
  },
  {
   "cell_type": "code",
   "execution_count": null,
   "metadata": {},
   "outputs": [],
   "source": [
    "problem.add_equation(\"dt(C) - K*dx(Cx) - K*dy(Cy) = -U*Cx -V*Cy\")\n",
    "problem.add_equation(\"Cx - dx(C) = 0\")\n",
    "problem.add_equation(\"Cy - dy(C) = 0\")"
   ]
  },
  {
   "cell_type": "markdown",
   "metadata": {},
   "source": [
    "## Building a solver\n",
    "\n",
    "Now we build the solver and specify the stop criteria. Let's stop after the model time reaches 10, or the solver takes 30 minutes. "
   ]
  },
  {
   "cell_type": "code",
   "execution_count": null,
   "metadata": {},
   "outputs": [],
   "source": [
    "# Build solver\n",
    "solver = problem.build_solver(de.timesteppers.RK222)\n",
    "logger.info('Solver built')\n",
    "\n",
    "# timesteps\n",
    "T  = 10\n",
    "dt = 1/500\n",
    "\n",
    "# Integration parameters\n",
    "solver.stop_sim_time = T\n",
    "solver.stop_wall_time = 30 * 60.\n",
    "solver.stop_iteration = np.inf"
   ]
  },
  {
   "cell_type": "markdown",
   "metadata": {},
   "source": [
    "## Setting the initial condition\n",
    "\n",
    "We'll use the same initial condition as was used in the 1D problem. The only difference is that we are working in 2D now, so we will make initial condition isotropic about the center of the doman. "
   ]
  },
  {
   "cell_type": "code",
   "execution_count": null,
   "metadata": {},
   "outputs": [],
   "source": [
    "# Get the bases from the object \"domain\" and the state variables from the object \"solver\"\n",
    "x, y = domain.grid(0), domain.grid(1)\n",
    "C = solver.state['C']\n",
    "Cx = solver.state['Cx']\n",
    "Cy = solver.state['Cy']\n",
    "\n",
    "n = 20\n",
    "C['g'] = np.log(1 + np.cosh(n)**2/np.cosh(n*np.sqrt(x**2+y**2))**2) / (2*n)\n",
    "C.differentiate(0, out=Cx)\n",
    "C.differentiate(1, out=Cy)\n",
    "\n",
    "C.set_scales(1, keep_data=True)\n",
    "xx,yy = np.meshgrid(x,y,indexing='ij')\n",
    "f = plt.figure(figsize=(8,8))\n",
    "ax = f.add_subplot(1,1,1)\n",
    "ax.pcolormesh(xx, yy, C['g'])\n",
    "ax.set(aspect=1,title='C (t = 0)',xlabel='x',ylabel='y')"
   ]
  },
  {
   "cell_type": "markdown",
   "metadata": {},
   "source": [
    "## Solving the problem\n",
    "\n",
    "Now we are ready to solve the problem. First we need to save some data for the final plots. Then we can run the main time loop. "
   ]
  },
  {
   "cell_type": "code",
   "execution_count": null,
   "metadata": {},
   "outputs": [],
   "source": [
    "# Store data for final plot\n",
    "C.set_scales(1, keep_data=True)\n",
    "C_list = [np.copy(C['g'])]\n",
    "t_list = [solver.sim_time]"
   ]
  },
  {
   "cell_type": "code",
   "execution_count": null,
   "metadata": {},
   "outputs": [],
   "source": [
    "# Main loop\n",
    "while solver.ok:\n",
    "    solver.step(dt)\n",
    "    if solver.iteration % 20 == 0:\n",
    "        C.set_scales(1, keep_data=True)\n",
    "        C_list.append(np.copy(C['g']))\n",
    "        t_list.append(solver.sim_time)\n",
    "    if solver.iteration % 100 == 0:\n",
    "        logger.info('Iteration: %i, Time: %e, dt: %e' %(solver.iteration, solver.sim_time, dt))"
   ]
  },
  {
   "cell_type": "code",
   "execution_count": null,
   "metadata": {},
   "outputs": [],
   "source": [
    "# Make plot of C\n",
    "f = plt.figure(figsize=(16,4))\n",
    "print(len(C_list))\n",
    "\n",
    "for i in range(4):\n",
    "    ax = f.add_subplot(1,4,i+1)\n",
    "    ax.pcolormesh(xx, yy, C_list[i*80])\n",
    "    ax.set(aspect=1)"
   ]
  },
  {
   "cell_type": "code",
   "execution_count": null,
   "metadata": {},
   "outputs": [],
   "source": [
    "# plot average of C as a function of time\n",
    "Cavg_list = np.sum(np.sum(C_list[0]))/nx**2\n",
    "\n",
    "for i in range(len(C_list)):\n",
    "    Cavg_list = np.append(Cavg_list,np.sum(np.sum(C_list[i]))/nx**2)\n",
    "    \n",
    "# Make plot of C average\n",
    "t_plot = np.linspace(0,T,len(Cavg_list))\n",
    "plt.plot(t_plot,Cavg_list)\n",
    "plt.ylim(0,.1)"
   ]
  },
  {
   "cell_type": "code",
   "execution_count": null,
   "metadata": {},
   "outputs": [],
   "source": [
    "# plot variance of C as a function of time\n",
    "Cvar_list = np.sum(np.sum(C_list[0]**2))\n",
    "\n",
    "for i in range(len(C_list)):\n",
    "    Cvar_list = np.append(Cvar_list,np.sum(np.sum(C_list[i]**2)))\n",
    "    \n",
    "# Make plot of C\n",
    "t_plot = np.linspace(0,T,len(Cvar_list))\n",
    "plt.plot(t_plot,Cvar_list)"
   ]
  },
  {
   "cell_type": "markdown",
   "metadata": {},
   "source": [
    "## Now try it yourself\n",
    "\n",
    "Repeat the experiment with different values of `K` and `eps`. Do you notice a difference in the rate of decay of the concentration? Which is more efficienty at diffusing the dye: closed cells, parallel shear flow, or something in between? "
   ]
  }
 ],
 "metadata": {
  "celltoolbar": "Slideshow",
  "kernelspec": {
   "display_name": "Python 3",
   "language": "python",
   "name": "python3"
  },
  "language_info": {
   "codemirror_mode": {
    "name": "ipython",
    "version": 3
   },
   "file_extension": ".py",
   "mimetype": "text/x-python",
   "name": "python",
   "nbconvert_exporter": "python",
   "pygments_lexer": "ipython3",
   "version": "3.6.5"
  }
 },
 "nbformat": 4,
 "nbformat_minor": 2
}
