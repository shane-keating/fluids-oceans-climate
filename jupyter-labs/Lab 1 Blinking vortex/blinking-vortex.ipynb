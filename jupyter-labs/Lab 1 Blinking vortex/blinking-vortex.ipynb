{
 "cells": [
  {
   "cell_type": "markdown",
   "metadata": {},
   "source": [
    "<img src=\"blinking-vortex.png\" align=\"center\"/>\n",
    "\n",
    "# Lab 1: Fundamentals\n",
    "\n",
    "In this lab, we will explore some concepts from Topic 1: Fundamentals\n",
    "\n",
    "- Advective derivative\n",
    "- Lagrangian vs Eulerian frames\n",
    "- Conservation laws\n",
    "\n",
    "We will also introduce some basic Python tools, such as plotting and data analysis. \n",
    "\n",
    "To use this notebook, you will need Python3 installed on your local machine. "
   ]
  },
  {
   "cell_type": "markdown",
   "metadata": {},
   "source": [
    "# Background\n",
    "\n",
    "## Blinking vortex flow\n",
    "\n",
    "The example we will study in depth is the *blinking vortex flow* (Aref, 1984). This 2D time-dependent flow is given by two vortices that alternately \"blink\" on and off with period $T$. Despite its simplicity, the blinking vortex flow produces very complex patterns of advection. In fact, it is a prototypical example of *chaotic advection*, a simple flow that produces chaos. \n",
    "\n",
    "For a single vortex centred at $(0,0)$, the flow is given by\n",
    "\n",
    "$$\n",
    "u = \\frac{K y}{x^2 + y^2}, \\qquad v = -\\frac{K x}{x^2 + y^2}.\n",
    "$$\n",
    "\n",
    "The strength of the vortex is given by $K$. For positive $K$, the vortex rotates clockwise; for negative $K$, the vortex rotates anticlockwise. \n",
    "\n",
    "The blinking vortex flow alternates the vortex center between $(\\pm a, 0)$. Thus, for $0 \\le t < T/2$, the vortex is centered at $(-a, 0)$: \n",
    "\n",
    "$$\n",
    "u = \\frac{K y}{(x+a)^2 + y^2}, \\qquad v = -\\frac{K (x + a)}{(x + a)^2 + y^2}, \\qquad 0 \\le t < T/2,\n",
    "$$\n",
    "\n",
    "while, for $T/2 \\le t < T$ the vortex is centered at $(+a,0)$: \n",
    "\n",
    "$$\n",
    "u = \\frac{K y}{(x-a)^2 + y^2}, \\qquad v = -\\frac{K (x - a)}{(x - a)^2 + y^2}, \\qquad T/2 \\le t < T.\n",
    "$$\n",
    "\n",
    "This pattern then repeats with period $T$. "
   ]
  },
  {
   "cell_type": "markdown",
   "metadata": {},
   "source": [
    "## Particle advection\n",
    "\n",
    "Given this prescribed flow $u(x,y,t), v(x,y,t)$, we can advect particles by solving the following set of ODEs for the particle position $x_p(t), y_p(t)$\n",
    "\n",
    "$$\n",
    "\\frac{d x_p}{dt} = u( x_p(t), y_p(t), t),\n",
    "$$\n",
    "\n",
    "$$\n",
    "\\frac{d y_p}{dt} = v( x_p(t), y_p(y), t).\n",
    "$$\n",
    "\n",
    "In addition we have the initial condition:\n",
    "\n",
    "$$\n",
    "x_p(0) = x_0, \\qquad y_p(0) = y_0,\n",
    "$$\n",
    "\n",
    "that is, the particle is initially released at the position $x_0, y_0$. \n",
    "\n",
    "For the simple flow we have prescribed, we could easily solve this set of equations analytically: the particle trajectories are just circles (try to prove this yourself). However, this quickly gets complicated when you include time-dependence in the flow, even very elementary time-dependence as in this case. So instead we will use a well-known numerical scheme to solve the ODEs: the Runge-Kutta fourth order (RK4) timestepper. "
   ]
  },
  {
   "cell_type": "markdown",
   "metadata": {},
   "source": [
    "## References\n",
    "\n",
    "Aref, H. (1984). Stirring by Chaotic Advection. Journal of Fluid Mechanics 143: 1-21. \n",
    "\n",
    "Code Academy: [Learn Python](https://www.codecademy.com/learn/learn-python). A free web-based tutorial with interactive python terminal. Highly recommended. "
   ]
  },
  {
   "cell_type": "markdown",
   "metadata": {},
   "source": [
    "# Setting up the experiment\n",
    "\n",
    "## An introduction to Python\n",
    "\n",
    "In this course, we will use [Python](https://www.python.org/) to run fluid dynamics simulations, analyze output, and plot figures and movies. Python is free, flexible, easy to use, and has tons of online resources for beginners. If you have a question about Python, my default answer will be \"have you Googled it?\"\n",
    "\n",
    "You do not need to be fluent in Python or any other programming language for this course. We will run Python from within these notebooks, and you will get lots of guidance. You are also encouraged to complete this [free online tutorial](https://www.codecademy.com/learn/learn-python) to familiarise yourself with Python syntax."
   ]
  },
  {
   "cell_type": "markdown",
   "metadata": {},
   "source": [
    "### Jupyter notebook\n",
    "\n",
    "We will run the python labs in [Jupyter notebook](http://jupyter.org/). Jupyter notebook is an interective, web-based, computational environment. Within a notebook you can display text, mathematical notation, images, etc, using [Markdown](https://www.markdownguide.org/). For example:\n",
    "\n",
    "#### World's most awesome equations: \n",
    "\n",
    "- Newton's second law: $F = m \\dot{v}$. \n",
    "- Euler's equation: $e^{\\mathrm{i} \\pi} + 1 = 0$. \n",
    "- Wave equation (\"_gnarly dude!_\"): \n",
    "$$\n",
    "\\frac{\\partial^2 f}{\\partial t^2} = c^2 \\frac{\\partial^2 f}{\\partial x^2}.\n",
    "$$\n",
    "\n",
    "\n",
    "If you double-click any cell, you can see the Markdown code used to create it. "
   ]
  },
  {
   "cell_type": "markdown",
   "metadata": {},
   "source": [
    "Jupyter notebook also allows you to use \"cells\" of python code that be executed in real time. \n",
    "\n",
    "To see this in action, move down to the next cell and enter the following python code: \n",
    "\n",
    "```\n",
    "string = \"Hello world!\"\n",
    "print(string)\n",
    "```\n",
    "\n",
    "When you are finished, press **SHIFT + ENTER** to run the cell (or click **Run** in the menu above). "
   ]
  },
  {
   "cell_type": "code",
   "execution_count": null,
   "metadata": {},
   "outputs": [],
   "source": [
    "# This is a comment reminding you to enter your python code below. Don't forget to press shift + enter to run!\n"
   ]
  },
  {
   "cell_type": "markdown",
   "metadata": {},
   "source": [
    "Congratulations! You are now a pythonista. Variables carry over from cell to cell, so you can build complex scripts by sequentially running cells one after another. \n",
    "\n",
    "Now create a new cell by clicking on the \"+\" button in the menu above. Make sure that the cell type is \"Code\" in the drop down menu. Navigate to the new cell and enter the following python code: \n",
    "\n",
    "```\n",
    "longer_string = string + \" spam! Spam! SPAM!\"\n",
    "print(longer_string)\n",
    "```\n",
    "\n",
    "Don't forget to **SHIFT + ENTER** to run the cell. "
   ]
  },
  {
   "cell_type": "markdown",
   "metadata": {},
   "source": [
    "\n",
    "## Libraries\n",
    "\n",
    "Python makes extensive use of freely available, open source *libraries*, which contain tonnes of useful functions etc that you can make use of. The following python code calls two standard libraries: `numpy` (pronounced \"numb pie\"), which contains useful functions for carrying out numerics, and `matplotlib`, which allows us to plot data.\n",
    "\n",
    "Since we will be using these libraries repeatedly, we will abbreviate their names to `np` and `plt`, respectively.\n",
    "\n",
    "Finally, the last line instructs `matplotlib` to plot figures in the Jupyter notebook, just below the cell that calls it. That way, you will be able to view and save figures within the notebook. \n",
    "\n",
    "**Move to the next cell by pressing DOWN, then press SHIFT + ENTER to run (or click \"Run\" in the menu above)**"
   ]
  },
  {
   "cell_type": "code",
   "execution_count": null,
   "metadata": {},
   "outputs": [],
   "source": [
    "# Numerics\n",
    "import numpy as np\n",
    "\n",
    "# Plotting\n",
    "import matplotlib.pyplot as plt\n",
    "\n",
    "# plot figures in Jupyter notebook\n",
    "%matplotlib inline"
   ]
  },
  {
   "cell_type": "markdown",
   "metadata": {},
   "source": [
    "## Variables, arrays, and indexing\n",
    "\n",
    "The first thing we need to do is define a numerical grid. We will do this using the `numpy` functions `linspace` and `meshgrid`. Thus, when we call them, we will use the alias we defined for this library, `np`, followed by a period `.` followed by the particular function we want from the library, e.g. `np.linspace`.\n",
    "\n",
    "First, we create a vector `xv` of `2n+1` equally spaced gridpoints between $x = -1$ and $x = 1$. Again, press **shift + enter** to run the following cell. "
   ]
  },
  {
   "cell_type": "code",
   "execution_count": null,
   "metadata": {},
   "outputs": [],
   "source": [
    "# Grid\n",
    "n = 50\n",
    "xv = np.linspace(-1,1,2*n+1)\n",
    "\n",
    "print(xv.shape)\n",
    "print(xv[0:10])\n",
    "print(xv[-10:])"
   ]
  },
  {
   "cell_type": "markdown",
   "metadata": {},
   "source": [
    "The command `print(xv.shape)` prints the dimensions of the array `xv`. In this case, it is a 1D array with `2n+1` elements, so the dimensions are $(2n+1,)$. Notice that the second dimension is simply blank, rather than `1`. \n",
    "\n",
    "The commands `print(xv[0:10])` and `print(xv[-10:])` print the first and last ten elements of the array. Indexing in python is indicated using square brackets `[...]` and is referenced to the first element (for positive indices) or the last element (for negative indices). Thus, `xv[0:10]` can be read as: \"first + 0 elements to first + 10 elements\", and `xv[-10:]` can be read as: \"last - 10 elements to last element\". \n",
    "\n",
    "Next we will define 2D arrays `xx` and `yy` using the function `meshgrid`. "
   ]
  },
  {
   "cell_type": "code",
   "execution_count": null,
   "metadata": {},
   "outputs": [],
   "source": [
    "xx,yy = np.meshgrid(xv,xv,indexing='ij')\n",
    "\n",
    "print(xx.shape)\n",
    "print(yy.shape)\n",
    "\n",
    "print(xx[0:10,0:10])\n",
    "print(yy[0:10,0:10])"
   ]
  },
  {
   "cell_type": "markdown",
   "metadata": {},
   "source": [
    "The array `xx` is an $2n+1 \\times 2n+1$ matrix in which each row is the corresponding value of `xv`. Likewise, the array `yy` is an $2n+1 \\times 2n+1$ matrix with each column having the corresponding value of `xv`. \n",
    "\n",
    "Let's try plotting a simple function of x and y using the arrays `xx` and `yy`. The function we will use is \n",
    "\n",
    "$$\n",
    "f = \\sin  (\\pi x) \n",
    "$$\n",
    "\n",
    "Both the sine function and the constant pi are part of the `numpy` library, so we call the using `np.sin` and `np.pi`, respectively. "
   ]
  },
  {
   "cell_type": "code",
   "execution_count": null,
   "metadata": {},
   "outputs": [],
   "source": [
    "# define function\n",
    "f = np.sin(np.pi*xx)"
   ]
  },
  {
   "cell_type": "markdown",
   "metadata": {},
   "source": [
    "We will make a 2D colorplot of this function using `plt.pcolormesh`, as well as a 1D plot of a slice of the function using `plt.plot`. We will also use some other functions from `matplotlib` to control the appearance of the figure, such as `subplot`, `title`, `xlabel`, etc. "
   ]
  },
  {
   "cell_type": "code",
   "execution_count": null,
   "metadata": {},
   "outputs": [],
   "source": [
    "# plot 2D colorplot\n",
    "plt.subplot(1,2,1)\n",
    "plt.pcolormesh(xx, yy, f)\n",
    "plt.title('f(x,y)')\n",
    "plt.xlabel('x')\n",
    "plt.ylabel('y')\n",
    "plt.axis('square')\n",
    "\n",
    "# plot 1D slice along y = 0\n",
    "plt.subplot(1,2,2)\n",
    "plt.plot(xv,f[:,n])\n",
    "plt.title('f(x,0)')\n",
    "plt.xlabel('x')\n",
    "plt.axis('square')\n",
    "plt.ylim(-1.1,1.1)"
   ]
  },
  {
   "cell_type": "markdown",
   "metadata": {},
   "source": [
    "--------------\n",
    "\n",
    "### Now try it yourself\n",
    "\n",
    "- Modify the function `f` above so that it is $f = \\cos (\\pi y)$ and plot a 2D colormap of the function. To do this, you will need to run (**shift + enter**) both cells: the cell that defines `f` and the cell that plots `f`. \n",
    "\n",
    "- How should you change the 1D plot so that it shows a slice along $x = 0$ instead of $y = 0$? \n",
    "\n",
    "- Try plotting a more complication function like $f = \\sin (\\pi x) \\cos (\\pi y$). \n",
    "\n",
    "------------------"
   ]
  },
  {
   "cell_type": "markdown",
   "metadata": {},
   "source": [
    "## Functions\n",
    "\n",
    "Now we will define a function that will return the value of the prescribed velocity field $U, V$ at the position of each particle. Then we can define a function for the right-hand side of the particle advection equation\n",
    "\n",
    "$$\n",
    "\\frac{d x}{d t} = U(x,y,t), \\qquad \\frac{d y}{d t} = V(x,y,t).\n",
    "$$\n",
    "\n",
    "We first define a function called `vortex` that accepts the following arguments\n",
    "\n",
    "- `data` : contains the current positions of the particles, `X` and `Y`\n",
    "- `x0` and `y0` : the location of the center of the vortex\n",
    "- `K` : the strength of the vortex\n",
    "- `eps` : a parameter that prevents the function from returning `NaN` for particles released at the center of the vortex (where the velocity $\\rightarrow \\infty$). \n",
    "\n",
    "Don't forget to press **shift + enter** to run the code. No output will be printed when you do this, because we are just defining some functions. But we will take a look at some output in a moment. "
   ]
  },
  {
   "cell_type": "code",
   "execution_count": null,
   "metadata": {},
   "outputs": [],
   "source": [
    "def vortex(data, x0, y0, K, eps):\n",
    "    X, Y = data\n",
    "    Xc, Yc = X-x0, Y-y0\n",
    "    U = K*Yc/(Xc**2 + Yc**2 + eps)\n",
    "    V = -K*Xc/(Xc**2 + Yc**2 + eps) \n",
    "    return np.stack([U, V])"
   ]
  },
  {
   "cell_type": "markdown",
   "metadata": {},
   "source": [
    "Notice that Python doesn't need to close the definition with an `end` statement. Instead, Python uses indentation for a block of code like a definitition, an `if` statement, a `for` loop, etc. \n",
    "\n",
    "The function returns the value of the velocities $U$ and $V$ at the positions $X$ and $Y$. It returns this data in the form of a multi-dimensional array using a handy function called `stack`, which is part of the `numpy` library. \n",
    "\n",
    "Now that we have defined a function that creates a generalized vortex, we can use it to define the right-hand side of the particle advection equation. We will call this function `RHS`, and it accepts the following arguments\n",
    "\n",
    "- `t` : the current time (in the simulation)\n",
    "- `data` : the current positions of the particles, i.e. `X` and `Y`"
   ]
  },
  {
   "cell_type": "code",
   "execution_count": null,
   "metadata": {},
   "outputs": [],
   "source": [
    "def RHS(t,data):\n",
    "    x0, y0 = -.25, 0,\n",
    "    x1, y1 = .25, 0.\n",
    "    K = 1\n",
    "    eps = .01\n",
    "    if np.sin(2*np.pi*t) > 0: \n",
    "        return vortex(data,x0,y0,K,eps)\n",
    "    else: \n",
    "        return vortex(data,x1,y1,K,eps)"
   ]
  },
  {
   "cell_type": "markdown",
   "metadata": {},
   "source": [
    "The function defines the centers of our two blinking vortices as $(x_0, y_0) = (-0.25,0)$ and $(x_1, y_1) = (0.25, 0)$. The values of the parameters `K` and `eps` are chosen to be 1 and 0.01 respectively. To make the vortices periodically \"blink\" on and off, it uses the sine function $\\sin ( 2 \\pi t)$: \n",
    "\n",
    "- when $\\sin ( \\pi t)$ is positive (i.e. when $0 < t < 1/2$) the vortex on the left is turned on\n",
    "- when $\\sin ( \\pi t)$ is zero or negative (i.e. when $1/2 \\le t \\le 1$) the vortex on the right is turned on\n",
    "\n",
    "This pattern then repeats with period $T = 1$. \n",
    "\n",
    "The function `RHS` makes use an `if` statement to determine which vortex to switch on. If the condition specified by the `if` statement is not satisfied, the function executes the `else` statement instead. As with `def`, we don't need to use an `end` statement: we just use another indentation to indicate an `if...else` block.   "
   ]
  },
  {
   "cell_type": "markdown",
   "metadata": {},
   "source": [
    "## Analysis of the velocity fields\n",
    "\n",
    "Now we can plot the model flow field. We will do this by evaluating `RHS` at every grid point `xx`, `yy` at times `t = 0.25` and `t = 0.75`. We will then plot 2D colormaps speed (magnitude of the velocity). "
   ]
  },
  {
   "cell_type": "code",
   "execution_count": null,
   "metadata": {},
   "outputs": [],
   "source": [
    "# Create the vortex at t = 0.25, 0.75\n",
    "data = np.stack([xx,yy])\n",
    "U0,V0 = RHS(0.25,data)\n",
    "U1,V1 = RHS(0.75,data)\n",
    "\n",
    "# Speed (magnitude of velocity)\n",
    "speed0 = np.sqrt(U0**2 + V0**2)\n",
    "speed1 = np.sqrt(U1**2 + V1**2)\n",
    "\n",
    "# Plot velocity field for each blink\n",
    "plt.subplot(1,2,1)\n",
    "plt.pcolormesh(xx,yy,speed0)\n",
    "plt.title('|u|(x,y,0.25)')\n",
    "plt.xlabel('x')\n",
    "plt.ylabel('y')\n",
    "plt.axis('square')\n",
    "\n",
    "plt.subplot(1,2,2)\n",
    "plt.pcolormesh(xx,yy,speed1)\n",
    "plt.title('|u|(x,y,0.75)')\n",
    "plt.xlabel('x')\n",
    "plt.ylabel('y')\n",
    "plt.axis('square')"
   ]
  },
  {
   "cell_type": "markdown",
   "metadata": {},
   "source": [
    "Notice that the speed goes to zero at the center of each vortex. This is because the parameter `eps` regularizes the singularity at the center. This can be more easily seen in 1D plots of the tangential velocities as functions of $x$. \n",
    "\n",
    "We will set the limits of these plots using the maximum value of $V$, using the functions `flatten()` (to convert an array into a 1D vector) and `max` (to find the largest value of a 1D vector). "
   ]
  },
  {
   "cell_type": "code",
   "execution_count": null,
   "metadata": {},
   "outputs": [],
   "source": [
    "# find max value of V\n",
    "Vmax = max(V0.flatten())\n",
    "\n",
    "# Plot 1D slices of V for each blink\n",
    "plt.subplot(1,2,1)\n",
    "plt.plot(xv,V0[:,n])\n",
    "plt.title('v (t=0.25)')\n",
    "plt.axis([-1,1,-Vmax,Vmax])\n",
    "\n",
    "plt.subplot(1,2,2)\n",
    "plt.plot(xv,V1[:,n])\n",
    "plt.title('v (t=0.75)')\n",
    "plt.axis([-1,1,-Vmax,Vmax])"
   ]
  },
  {
   "cell_type": "markdown",
   "metadata": {},
   "source": [
    "----------------\n",
    "\n",
    "### Now try it yourself\n",
    "\n",
    "- Try changing the parameters `K` and `eps` in the definition of the function `RHS`. How does this change the flow? \n",
    "- Derive (by hand) the vorticity of the flow $\\omega = \\partial_x V - \\partial_y U$. Use the expression to define a new function, `vorticity`, and plot 2D colorplots of the vorticity for each blink. \n",
    "- How could you change the blinking vortex flow so that the two vortices rotate in opposite directions?\n",
    "\n",
    "-----------------"
   ]
  },
  {
   "cell_type": "markdown",
   "metadata": {},
   "source": [
    "# Experiment"
   ]
  },
  {
   "cell_type": "markdown",
   "metadata": {},
   "source": [
    "## Particle advection\n",
    "\n",
    "Now we are ready to move a particle around with the prescribed flow field. To do this, we will use a Runge-Kutta fourth-order (RK4) time-stepper. If you are unfamiliar with RK4, you should spend some time googling it. \n",
    "\n",
    "The python code for RK4 is below. You don't need to understand everything that this code does, just that it creates a new function called `RK4` that accepts the following arguments\n",
    "\n",
    "- `data` : contains the current positions of the particles, `X` and `Y`\n",
    "- `RHS` : a pointer to the function we already defined for the RHS of the particle advection equations\n",
    "- `save_freq` : determines how often to save the output of the advection scheme\n",
    "\n",
    "**Execute the following cells using SHIFT + ENTER**"
   ]
  },
  {
   "cell_type": "markdown",
   "metadata": {},
   "source": [
    "### RK4 Timestepper"
   ]
  },
  {
   "cell_type": "code",
   "execution_count": null,
   "metadata": {},
   "outputs": [],
   "source": [
    "class RK4():\n",
    "    \"\"\"Class for making simulation objects.\"\"\"\n",
    "    \n",
    "    def __init__(self,start,forcing,time=0,save_freq=False):\n",
    "        \"\"\"Create simulation timestepper object.\"\"\"\n",
    "        self.times = [time]\n",
    "        self.iters = 0\n",
    "        self.data = start\n",
    "        self.RHS  = forcing\n",
    "        self.grids = start\n",
    "        \n",
    "        t = self.now()\n",
    "        X, Y = self.data\n",
    "        U, V = self.RHS(t,self.data)\n",
    "        self.save_freq = save_freq\n",
    "        self.save_data = np.array([X,Y,U,V])[None,...]\n",
    "        self.save_times = [time]\n",
    "        \n",
    "    def __call__(self,dt):\n",
    "        \"\"\"RK4 Time step of size dt.\"\"\"\n",
    "        x = self.data\n",
    "        f = self.RHS\n",
    "        t = self.now()\n",
    "        self.times += [ t + dt]\n",
    "        self.iters += 1\n",
    "\n",
    "        k1 = f(t,x)\n",
    "        k2 = f(t+dt/2,x+(dt/2)*k1)\n",
    "        k3 = f(t+dt/2,x+(dt/2)*k2)\n",
    "        k4 = f(t+dt,   x+dt*k3)\n",
    "        \n",
    "        self.data = x + (dt/6)*( k1 + 2*k2 + 2*k3 + k4 )\n",
    "        if save_freq and self.iters % self.save_freq == 0: self.save()\n",
    "        \n",
    "    def state(self):\n",
    "        \"\"\"Return current time and data.\"\"\"\n",
    "        return self.times[-1], self.data\n",
    "    \n",
    "    def now(self):\n",
    "        \"\"\"Return current time.\"\"\"\n",
    "        return self.times[-1]\n",
    "    \n",
    "    def save(self):\n",
    "        \"\"\"Store data.\"\"\"\n",
    "        t = self.now()\n",
    "        X, Y = self.data\n",
    "        U, V = self.RHS(t, self.data)\n",
    "        save_arr = np.array([X,Y,U,V])[None,...]\n",
    "        self.save_times = np.append(self.save_times,t)\n",
    "        self.save_data = np.append(self.save_data, save_arr, axis=0)\n",
    "        print('Saved data at timestep {:d}'.format(self.iters))"
   ]
  },
  {
   "cell_type": "markdown",
   "metadata": {},
   "source": [
    "To test this, let's start with a single particle released from an initial position ($X_0, Y_0) = (0, 0)$ at time $t = 0$. From this, we create the initial `data` using `np.stack` and evaluate the initial velocity at the release position. \n",
    "\n",
    "We will also set some parameters for the timestepping scheme and how often to save data to memory:\n",
    "- `dt` : the timestep used\n",
    "- `iterations` : the total number of timesteps to take\n",
    "- `save_freq` : number of timesteps to take before saving the data"
   ]
  },
  {
   "cell_type": "code",
   "execution_count": null,
   "metadata": {},
   "outputs": [],
   "source": [
    "# Initial Data\n",
    "X0,Y0 = 0, 0\n",
    "data = np.stack([X0,Y0])\n",
    "U0,V0 = RHS(0,data)\n",
    "\n",
    "# Timestepping and saving parameters\n",
    "dt = 0.0005\n",
    "save_freq = 50\n",
    "iterations = 20000"
   ]
  },
  {
   "cell_type": "markdown",
   "metadata": {},
   "source": [
    "We're ready to go! Execute the following cell to call the timestepper and loop for the number of timesteps given by `iterations`. You should see output printed to the screen showing you that the code is running. "
   ]
  },
  {
   "cell_type": "code",
   "execution_count": null,
   "metadata": {},
   "outputs": [],
   "source": [
    "# Timestepper\n",
    "advection = RK4(data,RHS,save_freq=save_freq)\n",
    "\n",
    "# Timestepping loop\n",
    "for _ in range(iterations): advection(dt)"
   ]
  },
  {
   "cell_type": "markdown",
   "metadata": {},
   "source": [
    "## Plotting the data\n",
    "\n",
    "Now let's take a look at the trajectory of the particle. "
   ]
  },
  {
   "cell_type": "code",
   "execution_count": null,
   "metadata": {},
   "outputs": [],
   "source": [
    "# grab the position and time data saved in the object `advection`\n",
    "save_data = advection.save_data\n",
    "save_times = advection.save_times\n",
    "\n",
    "# particle position is the first (0) and second (1) column of the array\n",
    "X = save_data[:,0]\n",
    "Y = save_data[:,1]\n",
    "\n",
    "# plot the particle trajectory\n",
    "plt.plot(X,Y)\n",
    "plt.title('Particle trajectory')\n",
    "plt.xlabel('x')\n",
    "plt.ylabel('y')\n",
    "plt.axis('square')\n",
    "plt.xlim(-1,1)\n",
    "plt.ylim(-1,1)"
   ]
  },
  {
   "cell_type": "markdown",
   "metadata": {},
   "source": [
    "Next let's check that these trajectories make sense. For each \"blink\" the particle will move in a circular orbit around the vortex center. So if we plot the distance of the particle from center of the vortex that is \"on\" at any given time, it should be a piecewise constant function. \n",
    "\n",
    "First define a function to calculate the distance of the particle from the vortex that is currently \"on\". We will use a similar structure to `RHS`, using a conditional `if ... ` block. However, instead of evaluating the function for a single instant of time, we want to run through a vector of times. We do this using a `for ...` loop. "
   ]
  },
  {
   "cell_type": "code",
   "execution_count": null,
   "metadata": {},
   "outputs": [],
   "source": [
    "def distance_from_vortex(t,data):\n",
    "    X,Y = data\n",
    "    x0, y0 = -.25, 0\n",
    "    x1, y1 = .25, 0\n",
    "    dist = [None]\n",
    "    \n",
    "    for i in range(1,len(t)):\n",
    "        if np.sin(2*np.pi*t[i]) > 0:\n",
    "            dist = np.append(dist,np.sqrt((X-x0)**2 + (Y-y0)**2))\n",
    "        else: \n",
    "            dist = np.append(dist,np.sqrt((X-x1)**2 + (Y-y1)**2))\n",
    "        return dist[1:]"
   ]
  },
  {
   "cell_type": "markdown",
   "metadata": {},
   "source": [
    "Now plot the distance as a function of time using our newly created function `distance_from_vortex`. "
   ]
  },
  {
   "cell_type": "code",
   "execution_count": null,
   "metadata": {},
   "outputs": [],
   "source": [
    "# Create an array using the particle position at each time\n",
    "data = np.stack([X,Y])\n",
    "\n",
    "# calculate the distance from the active vortex\n",
    "dist = distance_from_vortex(save_times,data)\n",
    "\n",
    "# plot as a function of time\n",
    "plt.plot(save_times,dist)\n",
    "plt.xlim([0,10])\n",
    "plt.ylim([0,1])\n",
    "plt.xlabel('Time')\n",
    "plt.title('Distance from active vortex')"
   ]
  },
  {
   "cell_type": "markdown",
   "metadata": {},
   "source": [
    "You should see that the distance from the vortex is typically constant, and then undergoes a step-change as the other vortex switches on instead. However, there might be some errors, associated with the time-stepping algorithm, that results in some \"noise\" in the trajectory."
   ]
  },
  {
   "cell_type": "markdown",
   "metadata": {},
   "source": [
    "-----------------\n",
    "\n",
    "### Now try it yourself\n",
    "\n",
    "- Rerun the simulations using other values of `x0`, `y0` to see how the initial position of the particle changes its subsequent trajectory. \n",
    "- Try changing the value of the timestep `dt` to see how this affects the accuracy of the trajectories. \n",
    "\n",
    "-----------------"
   ]
  },
  {
   "cell_type": "markdown",
   "metadata": {},
   "source": [
    "## Chaotic advection\n",
    "\n",
    "The blinking vortex flow is a prototype for \"chaotic advection\": particle trajectories are highly chaotic, meaning that they are very sensitive to where they are initially released. \n",
    "\n",
    "To explore this, we will compare the trajectories of two particles initially released very close to each other. We can do this with the particle advection code we have, but for two particles instead of one. "
   ]
  },
  {
   "cell_type": "code",
   "execution_count": null,
   "metadata": {},
   "outputs": [],
   "source": [
    "# Initial Data\n",
    "X0,Y0 = (0,0), (-0.01, 0.01)\n",
    "data = np.stack([X0,Y0])\n",
    "U0,V0 = RHS(0,data)\n",
    "\n",
    "# Timestepping and saving parameters\n",
    "dt = 0.0005\n",
    "save_freq = 50\n",
    "iterations = 20000"
   ]
  },
  {
   "cell_type": "markdown",
   "metadata": {},
   "source": [
    "All we have changed here is that we now have particles starting at $(X_0,Y_0) = (0, -0.1)$ and $(X_0,Y_0) = (0, 0.1)$. We proceed with the advection algorithm exactly as before, and plot the resulting trajectories. "
   ]
  },
  {
   "cell_type": "code",
   "execution_count": null,
   "metadata": {},
   "outputs": [],
   "source": [
    "# Timestepper\n",
    "advection = RK4(data,RHS,save_freq=save_freq)\n",
    "\n",
    "# Timestepping loop\n",
    "for _ in range(iterations): advection(dt)"
   ]
  },
  {
   "cell_type": "code",
   "execution_count": null,
   "metadata": {},
   "outputs": [],
   "source": [
    "# grab the position and time data saved in the object `advection`\n",
    "save_data = advection.save_data\n",
    "save_times = advection.save_times"
   ]
  },
  {
   "cell_type": "code",
   "execution_count": null,
   "metadata": {},
   "outputs": [],
   "source": [
    "# grab the position and time data saved in the object `advection`\n",
    "save_data = advection.save_data\n",
    "save_times = advection.save_times\n",
    "\n",
    "# position of first (0) and second (1) particle\n",
    "X1 = save_data[:,0,0]\n",
    "Y1 = save_data[:,1,0]\n",
    "X2 = save_data[:,0,1]\n",
    "Y2 = save_data[:,1,1]\n",
    "\n",
    "# plot the particle trajectories\n",
    "plt.plot(X1,Y1)\n",
    "plt.plot(X2,Y2)\n",
    "plt.title('Particle trajectories')\n",
    "plt.xlabel('x')\n",
    "plt.ylabel('y')\n",
    "plt.axis('square')\n",
    "plt.xlim(-1,1)\n",
    "plt.ylim(-1,1)"
   ]
  },
  {
   "cell_type": "markdown",
   "metadata": {},
   "source": [
    "Let's plot the separation between the two particles as a function of time."
   ]
  },
  {
   "cell_type": "code",
   "execution_count": null,
   "metadata": {},
   "outputs": [],
   "source": [
    "# separation between the particles\n",
    "sep = np.sqrt((X1-X2)**2 + (Y1-Y2)**2)\n",
    "\n",
    "# plot separation as a function of time\n",
    "plt.plot(save_times,sep)\n",
    "plt.title('Particle separation')\n",
    "plt.xlabel('Time')\n",
    "plt.xlim(0,10)"
   ]
  },
  {
   "cell_type": "markdown",
   "metadata": {},
   "source": [
    "Although the particles start out close together, they will quickly separate. This is a hallmark of chaotic advection. "
   ]
  },
  {
   "cell_type": "markdown",
   "metadata": {},
   "source": [
    "---------------\n",
    "\n",
    "### Now try it yourself\n",
    " \n",
    "- Change the initial positions so the particles are closer together when they are released. Does the growth in the separation change? What if the particles start further away from each other? \n",
    "- **Challenge:** Modify the code to advect four particles initially released at the vertices of a square centred on the origin, i.e.\n",
    "\n",
    "$$\n",
    "(X_0, Y_0) = (-0.1, -0.1), (-0.1, 0.1), (0.1,-0.1), (-0.1,-0.1).\n",
    "$$\n",
    "\n",
    "Advect all four particles, and then calculate the separation rates of each particle pair (top, left, right, bottom). Plot the separations, averaged over particle pairs, as a function of time. \n",
    "\n",
    "------------------"
   ]
  },
  {
   "cell_type": "markdown",
   "metadata": {},
   "source": [
    "## Eulerian and Lagrangian fields\n",
    "\n",
    "As a final demonstration, we will advect a large number of particles. In fact, we release a particle at every gridpoint. The subsequent evolution of the particles will give us a Lagrangian field representation of the flow, that is, from the perspective of particles moving with the flow. \n",
    "\n",
    "We will make some pretty plots and stitch them together to make some movies. So the first thing you should do is create a new directory called `plots` in the notebook directory. \n",
    "\n",
    "Next we'll tell python where to find that folder, and import some useful tools for plotting colorbars. "
   ]
  },
  {
   "cell_type": "code",
   "execution_count": null,
   "metadata": {},
   "outputs": [],
   "source": [
    "# Directory to store plots - you need to create this folder in the notebook directory!\n",
    "plot_dir = 'plots'\n",
    "\n",
    "# useful tools for formatting colorbars\n",
    "from mpl_toolkits.axes_grid1 import make_axes_locatable "
   ]
  },
  {
   "cell_type": "markdown",
   "metadata": {},
   "source": [
    "Now let's define the initial particle positions to be the locations of the gridpoints, which we defined using `xx` and `yy`. "
   ]
  },
  {
   "cell_type": "code",
   "execution_count": null,
   "metadata": {},
   "outputs": [],
   "source": [
    "# Grid of particles\n",
    "n = 100\n",
    "xv = np.linspace(-0.5,0.5,2*n+1)\n",
    "xx,yy = np.meshgrid(xv,xv,indexing='ij')\n",
    "\n",
    "# Initial Data\n",
    "X0,Y0 = xx,yy\n",
    "data = np.stack([X0,Y0])\n",
    "U0,V0 = RHS(0,data)\n",
    "\n",
    "# Timestepping and saving parameters\n",
    "dt = 0.0005\n",
    "save_freq = 100\n",
    "iterations = 10000"
   ]
  },
  {
   "cell_type": "markdown",
   "metadata": {},
   "source": [
    "Now run the time-stepping algorithm. This might take a little bit longer, because we are advecting a lot more particles. "
   ]
  },
  {
   "cell_type": "code",
   "execution_count": null,
   "metadata": {},
   "outputs": [],
   "source": [
    "# Timestepper\n",
    "advection = RK4(data,RHS,save_freq=save_freq)\n",
    "\n",
    "# Timestepping loop\n",
    "for _ in range(iterations): advection(dt)"
   ]
  },
  {
   "cell_type": "markdown",
   "metadata": {},
   "source": [
    "To visualize the data, we will use scatter plots (`plt.scatter`) to plot the current position of each particle. But we will colour the particles using their initial $x$-position. \n",
    "\n",
    "This can take a little while to run --- longer than the simulation itself! You can look at the figures one-by-one in the directory `plots` to see how the particles evolve in time. "
   ]
  },
  {
   "cell_type": "code",
   "execution_count": null,
   "metadata": {},
   "outputs": [],
   "source": [
    "# Plot the current positions in the Eulerian frame (coloured by initial x-position)\n",
    "\n",
    "save_data = advection.save_data\n",
    "\n",
    "step = 1\n",
    "sel = (slice(None,None,step),slice(None,None,step))\n",
    "\n",
    "for i in range(len(save_data)):\n",
    "    X, Y = save_data[i,:2,...]\n",
    "    Xf, Yf = X[sel].flatten(), Y[sel].flatten()\n",
    "    \n",
    "    # Plot current position in Eulerian frame\n",
    "    fig, ax = plt.subplots()\n",
    "    ax.scatter(Xf, Yf, c=xx.flatten(), s=1, edgecolors=\"none\")\n",
    "    ax.set(aspect=1,xlabel='$x$',ylabel='$y$',xlim=[-1,1],ylim=[-1,1])\n",
    "    plt.savefig(plot_dir+'/blinking-Eulerian_{:0>3d}.png'.format(i),dpi=200,bbox_inches='tight')\n",
    "    plt.close()\n",
    "    print('Saved Eulerian snapshot {:d}'.format(i))"
   ]
  },
  {
   "cell_type": "markdown",
   "metadata": {},
   "source": [
    "### Making movies (to finish)\n",
    "\n",
    "The previous cell created a series of `png` files and placed them in the directory `plots`, e.g.\n",
    "\n",
    "```\n",
    "plots/blinking-Eulerian_000.png\n",
    "plots/blinking-Eulerian_001.png\n",
    "plots/blinking-Eulerian_002.png\n",
    "...\n",
    "```\n",
    "\n",
    "You can look at individual images by entering the following in the unix command line\n",
    "\n",
    "```\n",
    "display plots/blinnking-Eulerian_000.png\n",
    "```\n",
    "\n",
    "We'd like to be able to bundle together these image files into a movie. We will do this using a handy little script called `ffmpeg`. This script needs to be run in Linux, but one of the cool things about Jupyter notebooks is that you can run shell commands directly from a cell. \n",
    "\n",
    "The following function launches a shell using the command `system`, which is part of the library `os`. It then looks for all images that match the pattern `image_filenames` and stitches them together to create a movie called `movie-filename`. The last number, `framerate` the frame rate to use, i.e. the number of images to show per second. "
   ]
  },
  {
   "cell_type": "code",
   "execution_count": null,
   "metadata": {},
   "outputs": [],
   "source": [
    "def save_movie(image_filenames,movie_filename,framerate):\n",
    "    os.system('ffmpeg -r ' + str(framerate) + ' -i ' + image_filenames + ' -vcodec mpeg4 -y ' + movie_filename)\n",
    "    #os.system(\"ffmpeg -r 30 -i img%01d.png -vcodec mpeg4 -y movie.mp4\")"
   ]
  },
  {
   "cell_type": "markdown",
   "metadata": {},
   "source": [
    "To use this function, we need import the library `os`. To watch the movie, open the current working directory and click on `blinking-Eulerian.mp4`. "
   ]
  },
  {
   "cell_type": "code",
   "execution_count": null,
   "metadata": {},
   "outputs": [],
   "source": [
    "import os\n",
    "\n",
    "# make movie\n",
    "save_movie(\"plots/blinking-Eulerian_%03d.png\",\"blinking-Eulerian.mp4\",10)"
   ]
  },
  {
   "cell_type": "markdown",
   "metadata": {},
   "source": [
    "### Lagrangian field representation\n",
    "\n",
    "In the last example, we plotted each particle at its _current position_, but we coloured the particle using its _initial position_. This is an **Eulerian** representation, that is, in a fixed frame of reference. The particles change position in this frame, and they carry their colour with them: they are _labelled_ by their initial position. \n",
    "\n",
    "Another perspective is to plot each particle at its _initial position_, and colour the particle using its _current position_. In this frame, we do not expect the particles to move at all: we are following each particle in its particular frame of reference, i.e. a **Lagrangian** representation. However, the colour of each particle will change, since now it tells us where the particle is in grid space. \n",
    "\n",
    "In the following code, we visualize the data in a Lagrangian frame using a colorplot. It will place snapshots in the same directory as last time, `/plot`. Once it is finished, it makes a movie called `blinking-Lagrangian.mp4`. You can then compare this with the Eulerian representation. "
   ]
  },
  {
   "cell_type": "code",
   "execution_count": null,
   "metadata": {},
   "outputs": [],
   "source": [
    "# Plot the current positions in the Lagrangian frame (coloured by current x-position)\n",
    "\n",
    "for i in range(len(save_data)):\n",
    "    X, Y = save_data[i,:2,...]\n",
    "    \n",
    "    # Plot current position in Lagrangian frame \n",
    "    fig, ax = plt.subplots()\n",
    "    ax.pcolormesh(X0, Y0, X)\n",
    "    ax.set(aspect=1,xlabel='$x_0$',ylabel='$y_0$')\n",
    "    plt.savefig(plot_dir+'/blinking-Lagrangian_{:0>3d}.png'.format(i),dpi=200,bbox_inches='tight')\n",
    "    plt.close()\n",
    "    print('Saved Lagrangian snapshot {:d}'.format(i))\n",
    "    \n",
    "# make movie\n",
    "save_movie(\"plots/blinking-Lagrangian_%03d.png\",\"blinking-Lagrangian.mp4\",10)"
   ]
  }
 ],
 "metadata": {
  "kernelspec": {
   "display_name": "Python 3",
   "language": "python",
   "name": "python3"
  },
  "language_info": {
   "codemirror_mode": {
    "name": "ipython",
    "version": 3
   },
   "file_extension": ".py",
   "mimetype": "text/x-python",
   "name": "python",
   "nbconvert_exporter": "python",
   "pygments_lexer": "ipython3",
   "version": "3.5.2"
  },
  "toc": {
   "nav_menu": {},
   "number_sections": true,
   "sideBar": true,
   "skip_h1_title": false,
   "toc_cell": false,
   "toc_position": {
    "height": "calc(100% - 180px)",
    "left": "10px",
    "top": "150px",
    "width": "165px"
   },
   "toc_section_display": true,
   "toc_window_display": false
  },
  "varInspector": {
   "cols": {
    "lenName": 16,
    "lenType": 16,
    "lenVar": 40
   },
   "kernels_config": {
    "python": {
     "delete_cmd_postfix": "",
     "delete_cmd_prefix": "del ",
     "library": "var_list.py",
     "varRefreshCmd": "print(var_dic_list())"
    },
    "r": {
     "delete_cmd_postfix": ") ",
     "delete_cmd_prefix": "rm(",
     "library": "var_list.r",
     "varRefreshCmd": "cat(var_dic_list()) "
    }
   },
   "types_to_exclude": [
    "module",
    "function",
    "builtin_function_or_method",
    "instance",
    "_Feature"
   ],
   "window_display": false
  }
 },
 "nbformat": 4,
 "nbformat_minor": 2
}
