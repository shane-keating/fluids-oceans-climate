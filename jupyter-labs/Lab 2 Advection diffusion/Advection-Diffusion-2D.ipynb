{
 "cells": [
  {
   "cell_type": "markdown",
   "metadata": {},
   "source": [
    "<img src=\"cats-eye.png\" align=\"center\"/>\n",
    "\n",
    "# Lab 2B: Advection-Diffusion equation (2D)\n",
    "\n",
    "This lab extends some of the ideas we saw in the previous lab to two dimensions, and examine the role of the velocity field in advecting the dye concentration field. \n",
    "\n",
    "To use this notebook, you will need Python 3 and the latest version of [Dedalus](http://dedalus-project.org/) installed on your local machine. "
   ]
  },
  {
   "cell_type": "markdown",
   "metadata": {},
   "source": [
    "# Background\n",
    "\n",
    "## The Childress-Soward cat's-eye flow\n",
    "\n",
    "In this experiment we will use a periodic 2D velocity field described by the one-parameter family of streamfunctions\n",
    "\n",
    "$$\n",
    "\\psi(x,y) = \\sin x \\, \\sin y + \\epsilon \\, \\cos x \\, \\cos y.\n",
    "$$\n",
    "\n",
    "The streamfunction $\\psi(x,y)$ describes the path taken by particles advected by the (time-independent) flow. Constant values of $\\psi(x,y)$ are the _streamlines_ of the flow. The velocities in the $x$ and $y$ direction are calculated from the derivatives of the streamfunction: \n",
    "\n",
    "$$\n",
    "U(x,y) = - \\partial_y \\, \\psi = - \\sin x \\, \\cos y + \\epsilon \\, \\cos x \\, \\sin y,\n",
    "$$\n",
    "\n",
    "$$\n",
    "V(x,y) = \\partial _x \\, \\psi = \\cos x \\, \\sin y - \\epsilon \\, \\sin x \\, \\cos y.\n",
    "$$\n",
    "\n",
    "The parameter $\\epsilon$ controls the shape of the flow: for $\\epsilon = 0$, the flow forms a periodic array of closed cells, for $\\epsilon = 1$, the flow is a parallel shear flow, and for values of $0 < \\epsilon < 1$, the flow forms elongated \"cat's eye\" ellipses. \n",
    "\n",
    "The next cell plots the streamlines for different values of the parameter $\\epsilon$. "
   ]
  },
  {
   "cell_type": "code",
   "execution_count": null,
   "metadata": {},
   "outputs": [],
   "source": [
    "# inmport libraries\n",
    "import numpy as np\n",
    "import matplotlib.pyplot as plt\n",
    "%matplotlib inline\n",
    "\n",
    "# plot the flow field\n",
    "n = 128\n",
    "x,y = np.linspace(-np.pi,np.pi,n)[1:-1, None], np.linspace(-np.pi,np.pi,n)[None,1:-1]\n",
    "xf,yf = x.flatten(),y.flatten()\n",
    "xx,yy = np.meshgrid(xf,yf,indexing='ij')\n",
    "\n",
    "f = plt.figure(figsize=(16,4))\n",
    "ax = f.add_subplot(1,4,1)\n",
    "ax.contour(xx, yy, np.sin(xx)*np.sin(yy) + 0.0*np.cos(xx)*np.cos(yy))\n",
    "ax.set(aspect=1,title='eps = 0.0')\n",
    "\n",
    "ax = f.add_subplot(1,4,2)\n",
    "ax.contour(xx, yy, np.sin(xx)*np.sin(yy) + 0.1*np.cos(xx)*np.cos(yy))\n",
    "ax.set(aspect=1,title='eps = 0.1')\n",
    "\n",
    "ax = f.add_subplot(1,4,3)\n",
    "ax.contour(xx, yy, np.sin(xx)*np.sin(yy) + 0.5*np.cos(xx)*np.cos(yy))\n",
    "ax.set(aspect=1,title='eps = 0.5')\n",
    "\n",
    "ax = f.add_subplot(1,4,4)\n",
    "ax.contour(xx, yy, np.sin(xx)*np.sin(yy) + 1.0*np.cos(xx)*np.cos(yy))\n",
    "ax.set(aspect=1,title='eps = 1.0')"
   ]
  },
  {
   "cell_type": "markdown",
   "metadata": {},
   "source": [
    "## Advection-diffusion equation\n",
    "\n",
    "Using the above flow field, we will evolve a concentration field $C(x,y,t)$ with the 2D advection diffusion equation\n",
    "\n",
    "$$\n",
    "\\partial_t \\, C + U(x,y) \\, \\partial_x \\, C + V(x,y) \\, \\partial_y \\, C = K \\, \\left( \\partial_x^2 \\, C + \\partial_y^2 \\, C \\right).\n",
    "$$\n",
    "\n",
    "To write this a form suitable for Dedalus, we will introduce two new fields, $C_x$ and $C_y$, so that the advection-diffusion equation becomes\n",
    "\n",
    "$$\n",
    "\\partial_t \\, C - K \\, \\partial_x \\, C_x - K \\, \\partial_y \\, C_y = - U(x,y) \\, C_x - V(x,y) \\, C_y.\n",
    "$$\n",
    "\n",
    "Notice that we have rearranged the PDE so that all the linear terms are on the LHS and everything else is on the RHS. \n",
    "\n",
    "In addition we have two new PDEs that come from the definitions of $C_x$ and $C_y$\n",
    "\n",
    "$$\n",
    "C_x - \\partial_x \\, C = 0 \\quad \\mbox{and} \\quad C_y - \\partial_y \\, C_y = 0.\n",
    "$$\n",
    "\n",
    "Finally, we impose periodic boundary conditions in $x$ and $y$. Thus, any dye that moves off the right side of the domain will re-enter from the left side, for example. \n",
    "\n",
    "### References\n",
    "\n",
    "- S. Childress and A. M. Soward, “Scalar transport and alpha-effect for a family of cat’s-eye flows,” J. Fluid Mech. 205, 99 (1989)."
   ]
  },
  {
   "cell_type": "markdown",
   "metadata": {},
   "source": [
    "# Experimental setup\n",
    "\n",
    "## Dedalus\n",
    "\n",
    "Import the `dedalus` library, some extra tools (`flow_tools`) for Dedalus, and a library called `time` that will tell us how much time has elapsed since we started the calculation. Finally, suppress some logging messages. "
   ]
  },
  {
   "cell_type": "code",
   "execution_count": null,
   "metadata": {},
   "outputs": [],
   "source": [
    "from dedalus import public as de\n",
    "from dedalus.extras import flow_tools\n",
    "import time\n",
    "\n",
    "import logging\n",
    "logger = logging.getLogger(__name__)"
   ]
  },
  {
   "cell_type": "markdown",
   "metadata": {},
   "source": [
    "## Bases and Domains\n",
    "\n",
    "The domain used in this problem is periodic in $x$ and $y$. Thus, we will choose sines and cosines (Fourier) for both the $x$ and $y$ basis functions. The domain is then constructed by putting these basis functions together. "
   ]
  },
  {
   "cell_type": "code",
   "execution_count": null,
   "metadata": {},
   "outputs": [],
   "source": [
    "# Parameters\n",
    "L = np.pi # 2*L = length of domain\n",
    "nx = 64   # number of gridpoints\n",
    "K = 0.01    # diffusivity\n",
    "eps = 0.  # controls shape of velocity field \n",
    "\n",
    "# Create bases and domain\n",
    "x_basis = de.Fourier('x', nx, interval=(-L,L))\n",
    "y_basis = de.Fourier('y', nx, interval=(-L,L))\n",
    "domain = de.Domain([x_basis,y_basis], grid_dtype=np.float64)"
   ]
  },
  {
   "cell_type": "markdown",
   "metadata": {},
   "source": [
    "## Initial value problem\n",
    "\n",
    "Again, this is an initial value problem, which we call using the command IVP from the Dedalus library. We also need to tell Dedalus the domain ($x$, $y$), the dynamical variables ($C$, $C_x$, $C_y$), parameters ($K$, $\\epsilon$) and functions ($U(x,y)$, $V(x,y)$) that appear in the problem. "
   ]
  },
  {
   "cell_type": "code",
   "execution_count": null,
   "metadata": {},
   "outputs": [],
   "source": [
    "# Formulate the initial value problem\n",
    "problem = de.IVP(domain, variables=['C','Cx','Cy'])\n",
    "\n",
    "# Set parameters (diffusivity)\n",
    "problem.parameters['K'] = K\n",
    "problem.parameters['eps'] = eps\n",
    "\n",
    "# Set velocity field\n",
    "problem.substitutions['U'] = '-sin(x)*cos(y) + eps*cos(x)*sin(y)'\n",
    "problem.substitutions['V'] = ' cos(x)*sin(y) - eps*sin(x)*cos(y)'"
   ]
  },
  {
   "cell_type": "markdown",
   "metadata": {},
   "source": [
    "## Formulating the problem\n",
    "\n",
    "Now we add the equations. Notice that there are no explicit boundary conditions, since these are already satisfied by the periodic basis functions chosen for $x$ and $y$. "
   ]
  },
  {
   "cell_type": "code",
   "execution_count": null,
   "metadata": {},
   "outputs": [],
   "source": [
    "problem.add_equation(\"dt(C) - K*dx(Cx) - K*dy(Cy) = -U*Cx -V*Cy\")\n",
    "problem.add_equation(\"Cx - dx(C) = 0\")\n",
    "problem.add_equation(\"Cy - dy(C) = 0\")"
   ]
  },
  {
   "cell_type": "markdown",
   "metadata": {},
   "source": [
    "## Building a solver\n",
    "\n",
    "Now we build the solver and specify the stop criteria. Let's stop after the model time reaches 10, or the solver takes 30 minutes. "
   ]
  },
  {
   "cell_type": "code",
   "execution_count": null,
   "metadata": {},
   "outputs": [],
   "source": [
    "# Build solver\n",
    "solver = problem.build_solver(de.timesteppers.RK222)\n",
    "logger.info('Solver built')\n",
    "\n",
    "# timesteps\n",
    "T  = 10\n",
    "dt = 1/500\n",
    "\n",
    "# Integration parameters\n",
    "solver.stop_sim_time = T\n",
    "solver.stop_wall_time = 30 * 60.\n",
    "solver.stop_iteration = np.inf"
   ]
  },
  {
   "cell_type": "markdown",
   "metadata": {},
   "source": [
    "## Setting the initial condition\n",
    "\n",
    "We'll use the same initial condition as was used in the 1D problem. The only difference is that we are working in 2D now, so we will make initial condition isotropic about the center of the doman. "
   ]
  },
  {
   "cell_type": "code",
   "execution_count": null,
   "metadata": {},
   "outputs": [],
   "source": [
    "# Get the bases from the object \"domain\" and the state variables from the object \"solver\"\n",
    "x, y = domain.grid(0), domain.grid(1)\n",
    "C = solver.state['C']\n",
    "Cx = solver.state['Cx']\n",
    "Cy = solver.state['Cy']\n",
    "\n",
    "n = 20\n",
    "C['g'] = np.log(1 + np.cosh(n)**2/np.cosh(n*np.sqrt(x**2+y**2))**2) / (2*n)\n",
    "C.differentiate(0, out=Cx)\n",
    "C.differentiate(1, out=Cy)\n",
    "\n",
    "C.set_scales(1, keep_data=True)\n",
    "xx,yy = np.meshgrid(x,y,indexing='ij')\n",
    "f = plt.figure(figsize=(8,8))\n",
    "ax = f.add_subplot(1,1,1)\n",
    "ax.pcolormesh(xx, yy, C['g'])\n",
    "ax.set(aspect=1,title='C (t = 0)',xlabel='x',ylabel='y')"
   ]
  },
  {
   "cell_type": "markdown",
   "metadata": {},
   "source": [
    "## Solving the problem\n",
    "\n",
    "Now we are ready to solve the problem. First we need to save some data for the final plots. Then we can run the main time loop. "
   ]
  },
  {
   "cell_type": "code",
   "execution_count": null,
   "metadata": {},
   "outputs": [],
   "source": [
    "# Store data for final plot\n",
    "C.set_scales(1, keep_data=True)\n",
    "C_list = [np.copy(C['g'])]\n",
    "t_list = [solver.sim_time]"
   ]
  },
  {
   "cell_type": "code",
   "execution_count": null,
   "metadata": {},
   "outputs": [],
   "source": [
    "# Main loop\n",
    "while solver.ok:\n",
    "    solver.step(dt)\n",
    "    if solver.iteration % 20 == 0:\n",
    "        C.set_scales(1, keep_data=True)\n",
    "        C_list.append(np.copy(C['g']))\n",
    "        t_list.append(solver.sim_time)\n",
    "    if solver.iteration % 100 == 0:\n",
    "        logger.info('Iteration: %i, Time: %e, dt: %e' %(solver.iteration, solver.sim_time, dt))"
   ]
  },
  {
   "cell_type": "code",
   "execution_count": null,
   "metadata": {},
   "outputs": [],
   "source": [
    "# Make plot of C\n",
    "f = plt.figure(figsize=(16,4))\n",
    "print(len(C_list))\n",
    "\n",
    "for i in range(4):\n",
    "    ax = f.add_subplot(1,4,i+1)\n",
    "    ax.pcolormesh(xx, yy, C_list[i*80])\n",
    "    ax.set(aspect=1)"
   ]
  },
  {
   "cell_type": "code",
   "execution_count": null,
   "metadata": {},
   "outputs": [],
   "source": [
    "# plot average of C as a function of time\n",
    "Cavg_list = np.sum(np.sum(C_list[0]))/nx**2\n",
    "\n",
    "for i in range(len(C_list)):\n",
    "    Cavg_list = np.append(Cavg_list,np.sum(np.sum(C_list[i]))/nx**2)\n",
    "    \n",
    "# Make plot of C average\n",
    "t_plot = np.linspace(0,T,len(Cavg_list))\n",
    "plt.plot(t_plot,Cavg_list)\n",
    "plt.ylim(0,.1)"
   ]
  },
  {
   "cell_type": "code",
   "execution_count": null,
   "metadata": {},
   "outputs": [],
   "source": [
    "# plot variance of C as a function of time\n",
    "Cvar_list = np.sum(np.sum(C_list[0]**2))\n",
    "\n",
    "for i in range(len(C_list)):\n",
    "    Cvar_list = np.append(Cvar_list,np.sum(np.sum(C_list[i]**2)))\n",
    "    \n",
    "# Make plot of C\n",
    "t_plot = np.linspace(0,T,len(Cvar_list))\n",
    "plt.plot(t_plot,Cvar_list)"
   ]
  },
  {
   "cell_type": "markdown",
   "metadata": {},
   "source": [
    "## Now try it yourself\n",
    "\n",
    "Repeat the experiment with different values of `K` and `eps`. Do you notice a difference in the rate of decay of the concentration? Which is more efficienty at diffusing the dye: closed cells, parallel shear flow, or something in between? "
   ]
  }
 ],
 "metadata": {
  "celltoolbar": "Slideshow",
  "kernelspec": {
   "display_name": "Python 3",
   "language": "python",
   "name": "python3"
  },
  "language_info": {
   "codemirror_mode": {
    "name": "ipython",
    "version": 3
   },
   "file_extension": ".py",
   "mimetype": "text/x-python",
   "name": "python",
   "nbconvert_exporter": "python",
   "pygments_lexer": "ipython3",
   "version": "3.6.5"
  }
 },
 "nbformat": 4,
 "nbformat_minor": 2
}
