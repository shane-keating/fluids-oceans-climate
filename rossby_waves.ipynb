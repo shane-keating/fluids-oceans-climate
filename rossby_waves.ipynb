{
  "nbformat": 4,
  "nbformat_minor": 0,
  "metadata": {
    "kernelspec": {
      "display_name": "Python 3",
      "language": "python",
      "name": "python3"
    },
    "language_info": {
      "codemirror_mode": {
        "name": "ipython",
        "version": 3
      },
      "file_extension": ".py",
      "mimetype": "text/x-python",
      "name": "python",
      "nbconvert_exporter": "python",
      "pygments_lexer": "ipython3",
      "version": "3.6.5"
    },
    "colab": {
      "name": "rossby-waves.ipynb",
      "provenance": [],
      "collapsed_sections": [],
      "include_colab_link": true
    }
  },
  "cells": [
    {
      "cell_type": "markdown",
      "metadata": {
        "id": "view-in-github",
        "colab_type": "text"
      },
      "source": [
        "<a href=\"https://colab.research.google.com/github/shane-keating/fluids-oceans-climate/blob/master/rossby_waves.ipynb\" target=\"_parent\"><img src=\"https://colab.research.google.com/assets/colab-badge.svg\" alt=\"Open In Colab\"/></a>"
      ]
    },
    {
      "cell_type": "markdown",
      "metadata": {
        "id": "5Zxi7QRUWEvS",
        "colab_type": "text"
      },
      "source": [
        "# Lab 4: Shallow water Rossby waves\n",
        "\n",
        "In this lab, we will simulate barotropic flow on a $\\beta$-plane and discuss: \n",
        "\n",
        "- geostrophic streamfunction, velocity field, and potential vorticity\n",
        "- Rossby waves, phase and group velocity\n",
        "- the role of the planetary vorticity gradient and mean flow\n",
        "- the effect of nonlinearity\n",
        "\n",
        "To use this notebook on your local machine, you will need Python 3 and the latest version of [Dedalus](http://dedalus-project.org/).\n",
        "\n",
        "If you do not have Python 3 and Dedalus, you can run the lab on [Google Colaboratory](http://colab.research.google.com).  "
      ]
    },
    {
      "cell_type": "markdown",
      "metadata": {
        "id": "sNWvbQomefPB",
        "colab_type": "text"
      },
      "source": [
        "## Introducing Colab\n",
        "\n",
        "[Google Colaboratory](http://colab.research.google.com/) (or \"Colab\", for short) is a python notebook that you can run in a browser window. Colab notebooks are just like Jupyter notebooks, except that they are hosted on the cloud. This means that you do not need to have python installed on your local machine --- you can run it straight from a web browser. \n",
        "\n",
        "Colab should look and feel very similar to a Jupyter notebook. One minor difference is that the keyboard shortcut to execute a code cell is **CMD/CTRL+ENTER**, while **SHIFT+ENTER** will move you to the next cell. \n",
        "\n",
        "Watch [Introduction to Colab](https://www.youtube.com/watch?v=inN8seMm7UI)  to learn more, or check out this [Overview of Colab Features](https://colab.research.google.com/notebooks/basic_features_overview.ipynb). "
      ]
    },
    {
      "cell_type": "markdown",
      "metadata": {
        "id": "on_oRAauhb7J",
        "colab_type": "text"
      },
      "source": [
        "##Colab and Google Drive\n",
        "\n",
        "Colab integrates with Google Drive, so you can save your notebook, figures, and movies to your own Drive if you would like. This is not required to run the lab, because figures and movies will be saved to the Colab virtual machine and displayed in your browser. \n",
        "\n",
        "If you have a Google account and would like to save your notebook, copy and paste the following code snippet to mount your Google Drive in Colab. The command will send you to a new browser window to give permission for Colab to access your Drive. You can then locate your Google Drive by navigating to `drive/'My Drive'`: \n",
        "\n",
        "```\n",
        "from google.colab import drive\n",
        "drive.mount('/content/drive')\n",
        "!ls drive/'My Drive'\n",
        "```"
      ]
    },
    {
      "cell_type": "markdown",
      "metadata": {
        "id": "HHTZK9XgWEvV",
        "colab_type": "text"
      },
      "source": [
        "# Background\n",
        "\n",
        "## Shallow water model on a $\\beta$-plane\n",
        "\n",
        "The equations of motion for a single-layer shallow water model of depth $H$ on a $\\beta$-plane are\n",
        "\n",
        "$$\n",
        "\\partial_t Q + \\mathbf{u} \\cdot \\nabla Q = 0,\n",
        "$$\n",
        "\n",
        "where $u = - \\partial_y \\psi$, $v = \\partial_x \\psi$ is the velocity field, $\\psi$ is the geostrophic streamfunction, and \n",
        "\n",
        "$$\n",
        "Q = \\frac{f + \\zeta}{H}\n",
        "$$\n",
        "\n",
        "is the shallow-water potential vorticity. In this expression, $\\zeta$ is the $z$-component of the relative vorticity\n",
        "\n",
        "$$\n",
        "\\zeta = \\frac{\\partial v}{\\partial x} - \\frac{\\partial u}{\\partial y} = \\nabla^2 \\psi.\n",
        "$$\n",
        "\n",
        "Let's write $f = f_0 + \\beta y$, where $\\beta$ is the planetary vorticity gradient, and neglect variations in the depth of the fluid, $H$. For simplicity, we set $H = 1$. Then the shallow water potential vorticity is\n",
        "\n",
        "$$\n",
        "Q = f_0 + \\beta y + \\nabla^2 \\psi.\n",
        "$$"
      ]
    },
    {
      "cell_type": "markdown",
      "metadata": {
        "id": "6ZJBeTtoWEvX",
        "colab_type": "text"
      },
      "source": [
        "## Base state and perturbations\n",
        "\n",
        "We now introduce a base state with an eastward mean flow $U$ in the $x$-direction. The streamfunction, velocity field, and potential vorticity for this state is\n",
        "\n",
        "$$\n",
        "\\overline{\\psi} = - U y, \\qquad \\overline{\\mathbf{u}} = \\left( U, 0 \\right), \\qquad \\overline{Q} = f_0 + \\beta y.\n",
        "$$\n",
        "\n",
        "We will allow perturbations to this base state, i.e.\n",
        "\n",
        "$$\n",
        "\\psi = -U y + \\psi', \\qquad \\mathbf{u'} = \\left( U + u', v' \\right), \\qquad Q = f_0 +  \\beta y + q',  \n",
        "$$\n",
        "\n",
        "where the streamfunction, velocity, and potential vorticity perturbations are related by\n",
        "\n",
        "$$\n",
        "u' = - \\partial_y \\psi', \\qquad v' = \\partial_x \\psi', \\qquad q' = \\nabla^2 \\psi'.\n",
        "$$ \n"
      ]
    },
    {
      "cell_type": "markdown",
      "metadata": {
        "id": "Rb7EUX2UWEvY",
        "colab_type": "text"
      },
      "source": [
        "## Nonlinearity and the Jacobian operator\n",
        "\n",
        "We will drop the dashes on the perturbation variables from here on. The equation of motion for the perturbation potential vorticity $q$ is\n",
        "\n",
        "$$\n",
        "\\partial_t q + \\mathbf{u} \\cdot \\nabla q + U \\, \\partial_x q + \\beta \\, \\partial_x \\psi = 0\n",
        "$$\n",
        "\n",
        "The nonlinear term in this equation is $\\mathbf{u} \\cdot \\nabla q$. We note that it can be written as\n",
        "\n",
        "$$\n",
        "u \\, \\partial_x q + v \\, \\partial_y q = - \\partial_y \\psi \\, \\partial_x q + \\partial_x \\psi \\, \\partial_y q = J(\\psi, q).\n",
        "$$\n",
        "\n",
        "The operator $J(\\psi, q)$ is called the *Jacobian operator*. It allows us to directly calculate the nonlinearity from the streamfunction and the potential vorticity. Thus, we don't need to calculate the velocities $u$, $v$. \n",
        "\n",
        "We would like to explore the role of the nonlinear term in this lab. So we will rewrite the equation of motion as \n",
        "\n",
        "$$\n",
        "\\partial_t q + U \\, \\partial_x q + \\beta \\, \\partial_x \\psi = - \\epsilon \\; J \\left( \\psi, q \\right). \n",
        "$$\n",
        "\n",
        "This allows us to \"turn off\" the nonlinear term by setting $\\epsilon = 0$, and turn it back on by setting $\\epsilon = 1$. "
      ]
    },
    {
      "cell_type": "markdown",
      "metadata": {
        "id": "Uyo6OiZmWEvb",
        "colab_type": "text"
      },
      "source": [
        "## Rossby waves\n",
        "\n",
        "For linear dynamics ($\\epsilon = 0$), the streamfunction $\\psi$ satisfies the equation\n",
        "\n",
        "$$\n",
        "\\partial_t \\nabla^2 \\psi + U \\partial_x \\nabla^2 \\psi + \\beta \\partial_x \\psi = 0, \n",
        "$$\n",
        "\n",
        "where we have made use of $q = \\nabla^2 \\psi$. We now assume wave-like solutions of the form\n",
        "\n",
        "$$\n",
        "\\psi(x,y,t) = \\tilde{\\psi} \\; \\mbox{e}^{\\mbox{i} \\left( k x + l y - \\omega t \\right)},\n",
        "$$\n",
        "\n",
        "where $\\tilde{\\psi}$ is the amplitude of the wave, $(k,l)$ is the (two-dimensional) wavevector, and $\\omega$ is the (angular) frequency of the wave. By substituting this into the linearized equation, you can show that this gives\n",
        "\n",
        "$$\n",
        "i \\left( \\omega - U k \\right) \\left( k^2 + l^2 \\right) \\; \\tilde{\\psi} + i \\, \\beta \\, k \\; \\tilde{\\psi} = 0\n",
        "$$\n",
        "\n",
        "which has non-trivial solutions if\n",
        "\n",
        "$$\n",
        "\\omega = U k - \\frac{\\beta k}{k^2 + l^2}.\n",
        "$$\n",
        "\n",
        "This is the dispersion relation for *Rossby waves*. "
      ]
    },
    {
      "cell_type": "markdown",
      "metadata": {
        "id": "XuU1KBkmWEvd",
        "colab_type": "text"
      },
      "source": [
        "## Phase velocity and group velocity\n",
        "\n",
        "The phase velocity of Rossby waves is \n",
        "\n",
        "$$\n",
        "c_\\mathrm{ph} = \\frac{\\omega}{k} = U - \\frac{\\beta}{k^2 + l^2}. \n",
        "$$\n",
        "\n",
        "We have seen that the phase velocity is the speed at which wave crests propagate. Interestingly, in the absence of a mean flow ($U = 0$) Rossby wave crests will always propagate to the west. That is because both $\\beta$ and $k^2 + l^2$ are positive, so the overall phase speed is always in the *negative* $x$-direction, that is, westwards. However, we can make the wave crests propagate towards the east if we have mean eastward flow $U$ that is large enough to overcome their westward propagation. \n",
        "\n",
        "In nature, we rarely deal with situations where there is only one wave. Rather, waves of different wavelengths are usually superimposed in the form of a *wavepacket*. Within the wave packet, individual wave crests will propagate with their phase speed, but the overall wavepacket will move with a speed given by the *group velocity*\n",
        "\n",
        "$$\n",
        "c_\\mathrm{gr} = \\frac{\\partial \\omega}{\\partial k} = U - \\beta \\frac{l^2 - k^2}{\\left( k^2 + l^2 \\right)^2}. \n",
        "$$\n",
        "\n",
        "Unlike the phase velocity, the group velocity for Rossby waves can take either sign. That means that a wavepacket of Rossby waves can propagate westward or eastward, even though Rossby waves themselves can only propagate westwards. \n",
        "\n",
        "In this lab, we will explore the difference between phase velocity and group velocity in more detail. "
      ]
    },
    {
      "cell_type": "markdown",
      "metadata": {
        "id": "oxq6RgyPWEve",
        "colab_type": "text"
      },
      "source": [
        "# Experimental set-up"
      ]
    },
    {
      "cell_type": "markdown",
      "metadata": {
        "id": "9bTnHabQWS_z",
        "colab_type": "text"
      },
      "source": [
        "## Install Dedalus\n",
        "\n",
        "We start by installing Dedalus on the Colab virtual machine. This might take a few minutes. "
      ]
    },
    {
      "cell_type": "code",
      "metadata": {
        "id": "UJwrVT4dWf8R",
        "colab_type": "code",
        "colab": {}
      },
      "source": [
        "## Check Dedalus isn't already installed\n",
        "try:\n",
        "  import dedalus.public as de\n",
        "  print(\"Dedalus already installed\")\n",
        "except:\n",
        "  print(\"Dedalus not installed yet. Let's do it.\")"
      ],
      "execution_count": 0,
      "outputs": []
    },
    {
      "cell_type": "code",
      "metadata": {
        "id": "wtM2hfkJWipN",
        "colab_type": "code",
        "colab": {}
      },
      "source": [
        "## Dedalus installation\n",
        "\n",
        "# Step 1: Install FFTW\n",
        "!apt-get install libfftw3-dev\n",
        "!apt-get install libfftw3-mpi-dev\n",
        "\n",
        "# Step 2: Set paths for Dedalus installation\n",
        "import os\n",
        "os.environ['MPI_INCLUDE_PATH'] = \"/usr/lib/x86_64-linux-gnu/openmpi/include\"\n",
        "os.environ['MPI_LIBRARY_PATH'] = \"/usr/lib/x86_64-linux-gnu\"\n",
        "os.environ['FFTW_INCLUDE_PATH'] = \"/usr/include\"\n",
        "os.environ['FFTW_LIBRARY_PATH'] = \"/usr/lib/x86_64-linux-gnu\"\n",
        "\n",
        "# Step 3: Install Dedalus using pip\n",
        "!pip3 install dedalus\n",
        "\n",
        "# Step 4: Check Dedalus is importable\n",
        "print()\n",
        "print()\n",
        "try:\n",
        "  import dedalus.public as de\n",
        "  print(\"Dedalus successfully installed :)\")\n",
        "except:\n",
        "  print(\"Error installing Dedalus :(\")\n",
        "  raise"
      ],
      "execution_count": 0,
      "outputs": []
    },
    {
      "cell_type": "markdown",
      "metadata": {
        "id": "61ZbZsSzWEvg",
        "colab_type": "text"
      },
      "source": [
        "## Libraries\n",
        "\n",
        "Now we can import the usual libraries for Dedalus, Numpy, and Matplotlib. "
      ]
    },
    {
      "cell_type": "code",
      "metadata": {
        "id": "iLvr7ghVWEvi",
        "colab_type": "code",
        "colab": {}
      },
      "source": [
        "from dedalus import public as de\n",
        "import numpy as np\n",
        "import matplotlib.pyplot as plt\n",
        "%matplotlib inline"
      ],
      "execution_count": 0,
      "outputs": []
    },
    {
      "cell_type": "markdown",
      "metadata": {
        "id": "XICOvo6MWEvp",
        "colab_type": "text"
      },
      "source": [
        "## Basis and domains\n",
        "\n",
        "We will work in a rectangular domain of length `Lx = 16` and width `Ly = 8`. For simplicity, we will use periodic boundary conditions on each side of the domain. We do this by choosing the basis functions in the $x$ and $y$ directions to be Fourier (sines and cosines). "
      ]
    },
    {
      "cell_type": "code",
      "metadata": {
        "id": "ofduGxfeWEvq",
        "colab_type": "code",
        "colab": {}
      },
      "source": [
        "Lx, Ly = 16, 8\n",
        "Nx, Ny = 64, 64\n",
        "\n",
        "x_basis = de.Fourier('x', Nx, interval=(-Lx, Lx), dealias=3/2)\n",
        "y_basis = de.Fourier('y', Ny, interval=(-Ly, Ly), dealias=3/2)\n",
        "domain  = de.Domain([x_basis,y_basis], np.float64)"
      ],
      "execution_count": 0,
      "outputs": []
    },
    {
      "cell_type": "markdown",
      "metadata": {
        "id": "wRoyu2w3WEvy",
        "colab_type": "text"
      },
      "source": [
        "# Problem parameters\n",
        "\n",
        "The parameters we will adjust are\n",
        "- `beta`: the planetary vorticity gradient $\\beta$\n",
        "- `U`: the background flow (eastward) $U$\n",
        "- `eps`: the nonlinearity parameter $\\epsilon$"
      ]
    },
    {
      "cell_type": "code",
      "metadata": {
        "id": "oi5UQyYwWEv1",
        "colab_type": "code",
        "colab": {}
      },
      "source": [
        "# problem parameters\n",
        "\n",
        "beta = 1.     \n",
        "U    = 0.    \n",
        "eps  = 0.     "
      ],
      "execution_count": 0,
      "outputs": []
    },
    {
      "cell_type": "markdown",
      "metadata": {
        "id": "m0U9vRjSWEwA",
        "colab_type": "text"
      },
      "source": [
        "## Initial value problem\n",
        "\n",
        "Now we need to tell Dedalus about the domain, variables, parameters, and equations. (We don't need to worry about boundary conditions because they are built into our choice of Fourier basis modes.)\n",
        "\n",
        "We only have one equation to solve, \n",
        "\n",
        "$$\n",
        "\\partial_t q + U \\, \\partial_x q + \\beta \\, \\partial_x \\psi = - \\epsilon J \\left( \\psi, q \\right).  \n",
        "$$\n",
        "\n",
        "However, we need to tell Dedalus what the terms $q$ and $J(\\psi, q)$ mean. We will do this using *substitutions*. These tell Dedalus that whenever it sees $q$ (for example), it should replace it with $\\nabla^2 \\psi$. \n",
        "\n",
        "Each timestep, the code carries out the following tasks:   \n",
        "\n",
        "1. Calculate the potential vorticity $q$ from the streamfunction $\\psi$\n",
        "2. Calculate the nonlinear term $J(\\psi,q)$\n",
        "3. Evolve the potential vorticity forward in time \n",
        "4. Calculate the new streamfunction from the updated potential vorticity. \n",
        "\n",
        "The last step basically involves inverting the equation\n",
        "\n",
        "$$\n",
        "q = \\nabla^2 \\psi,\n",
        "$$\n",
        "\n",
        "This is easy to do using Fourier basis functions. If \n",
        "\n",
        "$$\n",
        "\\psi = \\tilde{\\psi} \\; \\mbox{e}^{i \\left( k x + l y \\right)}, \n",
        "\\qquad \\mbox{and} \\qquad \n",
        "q = \\tilde{q} \\; \\mbox{e}^{i \\left( k x + l y \\right)}, \n",
        "$$\n",
        "\n",
        "then spatial derivatives turn into multiplication by $i k$ and $i l$. In that case, the potential vorticity becomes\n",
        "\n",
        "$$\n",
        "\\tilde{q} = - \\left( k^2 + l^2  \\right) \\tilde{\\psi}\n",
        "$$\n",
        "\n",
        "Inverting this then gives the streamfunction in terms of the potential vorticity\n",
        "\n",
        "$$\n",
        "\\tilde{\\psi} = - \\left( k^2 + l^2 \\right)^{-1} \\tilde{q}\n",
        "$$\n",
        "\n",
        "However, care has to be taken to make sure we don't divide by zero, which could happen if $k = l = 0$. We will avoid this by simply setting $\\psi = 0$ if $k = l = 0$. \n",
        "\n",
        "In Dedalus, wavenumbers $k$ and $l$ are labelled by `nx` and `ny`, respectively. So we will tell Dedalus to use the equation of motion for `q` when `nx` or `ny` are non-zero, and to set `psi = 0` when `nx` and `ny` are both zero. "
      ]
    },
    {
      "cell_type": "code",
      "metadata": {
        "id": "AL2xgvyRWEwC",
        "colab_type": "code",
        "colab": {}
      },
      "source": [
        "# create the initial value problem\n",
        "problem = de.IVP(domain, variables=['psi'])\n",
        "\n",
        "# declare the problem parameters\n",
        "problem.parameters['beta'] = beta\n",
        "problem.parameters['eps']  = eps\n",
        "problem.parameters['U']    = U\n",
        "\n",
        "# declare substitutions\n",
        "problem.substitutions['q']      = \"d(psi,x=2) + d(psi,y=2)\"\n",
        "problem.substitutions['J(f,g)'] = \"dx(f)*dy(g) - dy(f)*dx(g)\"\n",
        "\n",
        "# equations of motion\n",
        "problem.add_equation(\"dt(q) + U*dx(q) + beta*dx(psi) = - eps*J(psi,q)\",condition=\"(nx!=0) or (ny!=0)\")\n",
        "problem.add_equation(\"psi = 0\",condition=\"(nx==0) and (ny==0)\")"
      ],
      "execution_count": 0,
      "outputs": []
    },
    {
      "cell_type": "markdown",
      "metadata": {
        "id": "fV2kM70vWEwJ",
        "colab_type": "text"
      },
      "source": [
        "## Create the solver"
      ]
    },
    {
      "cell_type": "code",
      "metadata": {
        "id": "58jAoqTkWEwL",
        "colab_type": "code",
        "colab": {}
      },
      "source": [
        "solver = problem.build_solver(de.timesteppers.SBDF2)\n",
        "\n",
        "dt = 1e-2\n",
        "solver.stop_iteration = 10000\n",
        "solver.stop_sim_time  = np.inf\n",
        "solver.stop_wall_time = np.inf"
      ],
      "execution_count": 0,
      "outputs": []
    },
    {
      "cell_type": "markdown",
      "metadata": {
        "id": "E4moEcEgWEwT",
        "colab_type": "text"
      },
      "source": [
        "## Initial condition\n",
        "\n",
        "We will examine two different initial conditions in this lab to see how they evolve over time. We set the initial condition by specifying the value of the potential vorticity at time $t = 0$: \n",
        "\n",
        "- A \"wavepacket\" with a Gaussian envelope\n",
        "\n",
        "$$\n",
        "q_0 (x,y) = \\cos \\left( \\frac{16 \\pi x}{L_x} \\right) \\; \\mbox{e}^{-\\left(x^2 + y^2\\right)/8}\n",
        "$$\n",
        "\n",
        "- A strip of potential vorticity with small perturbations\n",
        "\n",
        "$$\n",
        "q_0 (x,y) = \\cos \\left( \\frac{2 \\pi y}{L_y} + 0.1 \\cos \\left( \\frac{8\\pi x}{Lx} \\right) \\right) \n",
        "$$\n",
        "\n",
        "You can select which initial condition you want to use by commenting/uncommenting the corresponding lines of code below, i.e. by adding or removing a `#`."
      ]
    },
    {
      "cell_type": "code",
      "metadata": {
        "id": "qyfHH4m5WEwT",
        "colab_type": "code",
        "colab": {}
      },
      "source": [
        "x,y = domain.grids(scales=domain.dealias)\n",
        "\n",
        "q0 = domain.new_field()\n",
        "q0.set_scales(domain.dealias,keep_data=False)\n",
        "\n",
        "# Initial condition 1: Gaussian wave packet\n",
        "ic_name = \"wavepacket\"\n",
        "q0['g'] = np.cos(16*np.pi/Lx*x)*np.exp(-(x**2+y**2)/8)\n",
        "\n",
        "## Initial condition 2: Strip of PV\n",
        "#ic_name = \"pvstrip\"\n",
        "#q0['g'] = np.cos(2*np.pi/Ly*y + 0.1*np.cos(8*np.pi/Lx*x))"
      ],
      "execution_count": 0,
      "outputs": []
    },
    {
      "cell_type": "markdown",
      "metadata": {
        "id": "K-8htVBxWEwZ",
        "colab_type": "text"
      },
      "source": [
        "## Boundary value problem for streamfunction\n",
        "\n",
        "We are specifying the initial potential vorticity, from which we need to derive the initial streamfunction. We do this by solving a Boundary Value Problem for the initial streamfunction. "
      ]
    },
    {
      "cell_type": "code",
      "metadata": {
        "id": "i8PPe3u-WEwa",
        "colab_type": "code",
        "colab": {}
      },
      "source": [
        "init_problem = de.LBVP(domain, variables=['psi','u','v'])\n",
        "\n",
        "# declare the problem parameters\n",
        "init_problem.parameters['q0']   = q0 \n",
        "\n",
        "# boundary value problem\n",
        "init_problem.add_equation(\"d(psi,x=2) + d(psi,y=2) = q0\",condition=\"(nx!=0) or (ny!=0)\")\n",
        "init_problem.add_equation(\"u + dy(psi) = 0\")\n",
        "init_problem.add_equation(\"v - dx(psi) = 0\")\n",
        "init_problem.add_equation(\"psi = 0\",condition=\"(nx==0) and (ny==0)\")   "
      ],
      "execution_count": 0,
      "outputs": []
    },
    {
      "cell_type": "code",
      "metadata": {
        "id": "-V0Dj3ofWEwf",
        "colab_type": "code",
        "colab": {}
      },
      "source": [
        "# solve for the initial state\n",
        "init_solver = init_problem.build_solver()\n",
        "init_solver.solve()\n",
        "psi0 = init_solver.state['psi']\n",
        "psi0.set_scales(domain.dealias, keep_data=False)\n",
        "u0 = init_solver.state['u']\n",
        "u0.set_scales(domain.dealias, keep_data=False)\n",
        "v0 = init_solver.state['v']\n",
        "v0.set_scales(domain.dealias, keep_data=False)"
      ],
      "execution_count": 0,
      "outputs": []
    },
    {
      "cell_type": "markdown",
      "metadata": {
        "id": "Lrjdl1rhWEwj",
        "colab_type": "text"
      },
      "source": [
        "## Plot initial conditions\n",
        "\n",
        "We can now visualize the streamfunction, velocity field, and potential vorticity. "
      ]
    },
    {
      "cell_type": "code",
      "metadata": {
        "id": "4sXOLz2VWEwj",
        "colab_type": "code",
        "colab": {}
      },
      "source": [
        "# Plot the initial conditions\n",
        "\n",
        "xx,yy = np.meshgrid(x,y,indexing='ij')\n",
        "\n",
        "fig = plt.figure(figsize=(16,16))\n",
        "\n",
        "ax  = fig.add_subplot(3,1,1)\n",
        "cax = ax.contourf(xx, yy, psi0['g'],8,cmap=plt.cm.coolwarm)\n",
        "dax = ax.contour(xx, yy, psi0['g'],8,colors='k')\n",
        "ax.set(title='ψ (t = 0)')\n",
        "cbar = fig.colorbar(cax)\n",
        "\n",
        "ax  = fig.add_subplot(3,1,2)\n",
        "cax = ax.contourf(xx, yy, np.sqrt(u0['g']**2 + v0['g']**2),4,cmap=plt.cm.rainbow)\n",
        "dax = ax.contour(xx, yy, np.sqrt(u0['g']**2 + v0['g']**2),4,colors='k')\n",
        "ax.set(title='|u| (t = 0)')\n",
        "cbar = fig.colorbar(cax)\n",
        "\n",
        "ax  = fig.add_subplot(3,1,3)\n",
        "cax = ax.contourf(xx, yy, q0['g'],levels=np.linspace(-1.0,1.0,8),cmap=plt.cm.PuOr)\n",
        "dax = ax.contour(xx, yy, q0['g'],levels=np.linspace(-1.0,1.0,8),colors='k')\n",
        "ax.set(title='q (t = 0)')\n",
        "cbar = fig.colorbar(cax)"
      ],
      "execution_count": 0,
      "outputs": []
    },
    {
      "cell_type": "markdown",
      "metadata": {
        "id": "p-d5bup6WEwp",
        "colab_type": "text"
      },
      "source": [
        "## Analysis\n",
        "\n",
        "A powerful feature of Dedalus is its ability to run \"analysis tasks\" while the simulation is running. Analysis tasks include things like saving snapshots of the flow, calculate averages and statistics, etc. \n",
        "\n",
        "Since our model is evolving the streamfunction `psi`, we would like to save this field, along with the potential vorticity `q` and velocities `u` and `v` every few timesteps. These will be saved in a directory called `analysis`.  "
      ]
    },
    {
      "cell_type": "code",
      "metadata": {
        "id": "TNqzXa0PWEwq",
        "colab_type": "code",
        "colab": {}
      },
      "source": [
        "# Create analysis tasks\n",
        "\n",
        "analysis = solver.evaluator.add_file_handler('analysis', iter=100, max_writes=100)\n",
        "analysis.add_system(solver.state, layout='g')\n",
        "analysis.add_task(\"d(psi,x=2)+d(psi,y=2)\", layout='g', name='q')\n",
        "analysis.add_task(\"-dy(psi)\", layout='g', name='u')\n",
        "analysis.add_task(\" dx(psi)\", layout='g', name='v')"
      ],
      "execution_count": 0,
      "outputs": []
    },
    {
      "cell_type": "markdown",
      "metadata": {
        "id": "3wXExZCUWEwv",
        "colab_type": "text"
      },
      "source": [
        "## Run the simulation\n",
        "\n",
        "We are now ready to run the simulation. We call a variable `psi` and give it the initial value `psi0`. Then we run through the main time loop. Notice that we don't need to save data as we go: we have already instructed Dedalus to do this using the analysis tasks. "
      ]
    },
    {
      "cell_type": "code",
      "metadata": {
        "id": "QDjxArHvWEww",
        "colab_type": "code",
        "colab": {}
      },
      "source": [
        "import time\n",
        "psi = solver.state['psi']\n",
        "psi.set_scales(domain.dealias,keep_data=False)\n",
        "psi['g'] = psi0['g']\n",
        "\n",
        "# Main loop\n",
        "start_time = time.time()\n",
        "while solver.ok:\n",
        "    solver.step(dt)\n",
        "    if solver.iteration % 1000 == 0:\n",
        "        print('Completed iteration {}'.format(solver.iteration))\n",
        "end_time = time.time()\n",
        "print('Runtime:', end_time-start_time)"
      ],
      "execution_count": 0,
      "outputs": []
    },
    {
      "cell_type": "markdown",
      "metadata": {
        "id": "Cct9MyCyWEw2",
        "colab_type": "text"
      },
      "source": [
        "## Merge the analysis files and read in the data\n",
        "\n",
        "Dedalus saves the analysis data (snapshots of the flow etc) to a number of subdirectories in the directory `analysis`. In order to plot figures and make movies, we need to merge these files together into a single data set and then read it into memory. "
      ]
    },
    {
      "cell_type": "code",
      "metadata": {
        "id": "yoF3fHn8WEw2",
        "colab_type": "code",
        "colab": {}
      },
      "source": [
        "# Merge the analysis files\n",
        "\n",
        "import subprocess\n",
        "from dedalus.tools import post\n",
        "import pathlib\n",
        "post.merge_process_files(\"analysis\", cleanup=True)\n",
        "set_paths = list(pathlib.Path(\"analysis\").glob(\"analysis_s*.h5\"))\n",
        "post.merge_sets(\"analysis/analysis.h5\", set_paths, cleanup=True)"
      ],
      "execution_count": 0,
      "outputs": []
    },
    {
      "cell_type": "code",
      "metadata": {
        "id": "65cC2WKVWEw6",
        "colab_type": "code",
        "colab": {}
      },
      "source": [
        "# Read in the data\n",
        "\n",
        "import h5py\n",
        "\n",
        "file = h5py.File('analysis/analysis.h5','r')\n",
        "t   = file['/scales/sim_time'][:]\n",
        "X   = file['/scales/x/1.0'][:]\n",
        "Y   = file['/scales/y/1.0'][:]\n",
        "psi = file['tasks']['psi'][:]\n",
        "q   = file['tasks']['q'][:]\n",
        "\n",
        "file.close()"
      ],
      "execution_count": 0,
      "outputs": []
    },
    {
      "cell_type": "markdown",
      "metadata": {
        "id": "a8wz5X1MWEw9",
        "colab_type": "text"
      },
      "source": [
        "## Plot snapshots of the PV\n",
        "\n",
        "Now we can plot snapshots of the potential vorticity and save them to a new directory called, e.g. `plots-pvstrip` or `plots-wavepacket` etc. Once we have created the snapshots, we can stitch them together into a movie. \n",
        "\n",
        "You can easily adapt this code if you would like to visualize the streamfunction or the velocity fields instead. "
      ]
    },
    {
      "cell_type": "code",
      "metadata": {
        "id": "6kuklF6cWEw9",
        "colab_type": "code",
        "colab": {}
      },
      "source": [
        "import os\n",
        "\n",
        "plot_dir = ic_name + '_beta_' + str(beta) + '_U_' + str(U) + '_eps_' + str(eps)\n",
        "if not os.path.exists(plot_dir):\n",
        "    os.makedirs(plot_dir)\n",
        "\n",
        "XX,YY = np.meshgrid(X,Y,indexing='ij')\n",
        "\n",
        "for i in range(len(t)): \n",
        "\n",
        "    fig = plt.figure(figsize=(16, 8))\n",
        "    ax = plt.axes()\n",
        "    cax = ax.contourf(XX, YY, q[i,:,:],levels=np.linspace(-1.0,1.0,8),cmap=plt.cm.PuOr)\n",
        "    dax = ax.contour(XX, YY, q[i,:,:],levels=np.linspace(-1.0,1.0,8),colors='k')\n",
        "    ax.set(title='q: t = ' + str(round(t[i],4)))\n",
        "    fig.savefig(plot_dir + '/snap_{:0>3d}.png'.format(i),bbox_inches='tight')\n",
        "    plt.close()\n",
        "    if i%10 == 0: \n",
        "        print('Saved figure',i)\n",
        "        \n",
        "print('Saved snapshots')"
      ],
      "execution_count": 0,
      "outputs": []
    },
    {
      "cell_type": "code",
      "metadata": {
        "id": "HtfcQVy6WExA",
        "colab_type": "code",
        "colab": {}
      },
      "source": [
        "# make movie\n",
        "def save_movie(image_filenames,movie_filename,framerate):\n",
        "    os.system('ffmpeg -r ' + str(framerate) + ' -i ' + image_filenames + ' -vb 20M -vcodec mpeg4 -y ' + movie_filename)\n",
        "\n",
        "save_movie(plot_dir + \"/snap_%03d.png\",plot_dir + \"_movie.mp4\",10)\n",
        "print('Created movie')"
      ],
      "execution_count": 0,
      "outputs": []
    },
    {
      "cell_type": "code",
      "metadata": {
        "id": "qIO2DTDkYxkf",
        "colab_type": "code",
        "colab": {}
      },
      "source": [
        "# play movie\n",
        "movie_filename = plot_dir + \"_movie.mp4\"\n",
        "\n",
        "from IPython.display import HTML\n",
        "from base64 import b64encode\n",
        "mp4 = open(movie_filename,'rb').read()\n",
        "data_url = \"data:video/mp4;base64,\" + b64encode(mp4).decode()\n",
        "HTML(\"\"\"\n",
        "<video width=800 controls>\n",
        "    <source src=\"%s\" type=\"video/mp4\">\n",
        "</video>\n",
        "\"\"\" % data_url)"
      ],
      "execution_count": 0,
      "outputs": []
    },
    {
      "cell_type": "markdown",
      "metadata": {
        "id": "pYXBWtCiWExD",
        "colab_type": "text"
      },
      "source": [
        "# Now try it yourself"
      ]
    },
    {
      "cell_type": "markdown",
      "metadata": {
        "id": "Lc8r2WN1WExD",
        "colab_type": "text"
      },
      "source": [
        "## Gaussian wavepacket\n",
        "\n",
        "In this experiment, we simulate the evolution of a wavepacket of Rossby waves. \n",
        "\n",
        "- Look closely at the wave crests. Which direction are they travelling in?\n",
        "- Now consider the \"envelope\" of the wave crests. Which direction is it travelling in? \n",
        "- Can you modify the initial condition to make the wave packet move in the opposite direction?\n",
        "- Now try adding a mean flow `U`. Think about how the mean flow changes the evolution of the wave crests and the wave packet. \n",
        "- Can you find a value of `U` that makes the wave crests appear stationary (not moving)? What about a value of `U` that makes the wave packet appear stationary?\n",
        "- Finally, try turning on the nonlinearity in the equation of motion (`eps = 1.0`). The simulation will probably run a bit more slowly in this case. Look closely at the resulting flow. How is the nonlinear case different from the linear case? "
      ]
    },
    {
      "cell_type": "markdown",
      "metadata": {
        "id": "GI0GQOv4WExE",
        "colab_type": "text"
      },
      "source": [
        "## Strip of PV \n",
        "\n",
        "In this experiment, we simulate the evolution of an east-west strip of potential vorticity with some small \"wiggles\" in the north-south direction. This is a (very) simple model for the atmospheric jet stream on Earth, or the bands of Jupiter. \n",
        "\n",
        "- As in the Gaussian wavepacket experiment, start with the linear case (`eps = 0.0`) and try different values of `U` to make the wave crests propagate westward or eastward. What value of `U` makes the waves stationary? (This is trickier than the previous case because the waves are not simple superpositions of sines and cosines.)\n",
        "- Repeat the experiment with the nonlinearity turned on (`eps = 1.0`). How does the evolution of the waves change? Why?\n",
        "- How would you change the initial condition to make the wiggles in the PV strip have a larger amplitude? How do large amplitude wiggles evolve in the linear case, and in the nonlinear case? "
      ]
    }
  ]
}